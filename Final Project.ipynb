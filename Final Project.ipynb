{
 "cells": [
  {
   "cell_type": "markdown",
   "metadata": {},
   "source": [
    "Stack Exchange Data Dump\n",
    "by Stack Exchange, Inc.\n",
    "\n",
    "Published September 12, 2016\n",
    "Usage Attribution-Share Alike 3.0\n",
    "Topics Stack Exchange Data Dump\n",
    "\n",
    "\n",
    "#### Stack Exchange is a network of question-and-answer websites on topics in varied fields, each site covering a specific topic, where questions, answers, and users are subject to a reputation award process.\n",
    "\n",
    "This is an anonymized dump of all user-contributed content on the Stack Exchange network. \n",
    "\n",
    "#### Each site is formatted as a separate archive consisting of XML files zipped via 7-zip using bzip2 compression. \n",
    "#### Each site archive includes Posts, Users, Votes, Comments, PostHistory and PostLinks. For complete schema information, see the included readme.txt.\n",
    "\n",
    "All user content contributed to the Stack Exchange network is cc-by-sa 3.0 licensed, intended to be shared and remixed. We even provide all our data as a convenient data dump.\n",
    "License: http://creativecommons.org/licenses/by-sa/3.0/\n",
    "But our cc-by-sa 3.0 licensing, while intentionally permissive, does require attribution:\n",
    "Attribution — You must attribute the work in the manner specified by the author or licensor (but not in any way that suggests that they endorse you or your use of the work).\n",
    "Specifically the attribution requirements are as follows:\n",
    "Visually display or otherwise indicate the source of the content as coming from the Stack Exchange Network. This requirement is satisfied with a discreet text blurb, or some other unobtrusive but clear visual indication.\n",
    "\n",
    "Ensure that any Internet use of the content includes a hyperlink directly to the original question on the source site on the Network (e.g., http://stackoverflow.com/questions/12345)\n",
    "\n",
    "Visually display or otherwise clearly indicate the author names for every question and answer used\n",
    "\n",
    "Ensure that any Internet use of the content includes a hyperlink for each author name directly back to his or her user profile page on the source site on the Network (e.g., http://stackoverflow.com/users/12345/username), directly to the Stack Exchange domain, in standard HTML (i.e. not through a Tinyurl or other such indirect hyperlink, form of obfuscation or redirection), without any “nofollow” command or any other such means of avoiding detection by search engines, and visible even with JavaScript disabled.\n",
    "\n",
    "For more information, see the Stack Exchange Terms of Service.\n",
    "\n",
    "\n",
    "Identifier stackexchange\n",
    "Publicdate 2014-01-21 18:54:32\n",
    "Mediatype data\n",
    "Addeddate 2014-01-21 18:54:32\n",
    "Creator Stack Exchange, Inc.\n",
    "Date 2016-09-12\n",
    "Year 2016\n",
    "Year 2015\n",
    "Year 2014\n",
    "Contributor Stack Exchange Community\n",
    "Licenseurl http://creativecommons.org/licenses/by-sa/3.0/\n",
    "Backup_location ia905803_10\n",
    "\n",
    "Archive index: https://archive.org/download/stackexchange\n",
    "\n",
    "More details on fields: http://meta.stackexchange.com/questions/2677/database-schema-documentation-for-the-public-data-dump-and-sede"
   ]
  },
  {
   "cell_type": "code",
   "execution_count": 1,
   "metadata": {
    "collapsed": true
   },
   "outputs": [],
   "source": [
    "import xml.etree.ElementTree as ET\n",
    "#import csv\n",
    "import itertools\n",
    "import networkx as net\n",
    "import matplotlib.pyplot as plot\n",
    "from __future__ import division\n",
    "import random\n",
    "import nltk\n",
    "from nltk import FreqDist\n",
    "from nltk.corpus import stopwords"
   ]
  },
  {
   "cell_type": "code",
   "execution_count": 2,
   "metadata": {
    "collapsed": true
   },
   "outputs": [],
   "source": [
    "matplotlib inline"
   ]
  },
  {
   "cell_type": "code",
   "execution_count": 3,
   "metadata": {
    "collapsed": false
   },
   "outputs": [],
   "source": [
    "#Determine how to extract data\n",
    "#http://stackoverflow.com/questions/13580246/xml-to-csv-like-format\n",
    "#http://blog.appliedinformaticsinc.com/how-to-parse-and-convert-xml-to-csv-using-python/\n",
    "tree = ET.parse('stack-exchange-data-2/Badges.xml')\n",
    "root = tree.getroot()"
   ]
  },
  {
   "cell_type": "code",
   "execution_count": 4,
   "metadata": {
    "collapsed": false
   },
   "outputs": [],
   "source": [
    "#for child in root:\n",
    "#    print(child.tag,child.attrib)\n",
    "rows = [child.attrib for child in root]"
   ]
  },
  {
   "cell_type": "code",
   "execution_count": 5,
   "metadata": {
    "collapsed": false
   },
   "outputs": [
    {
     "data": {
      "text/plain": [
       "['Name', 'Date', 'TagBased', 'UserId', 'Id', 'Class']"
      ]
     },
     "execution_count": 5,
     "metadata": {},
     "output_type": "execute_result"
    }
   ],
   "source": [
    "first_row = rows[0]\n",
    "badge_head = first_row.keys()\n",
    "badge_head"
   ]
  },
  {
   "cell_type": "code",
   "execution_count": 6,
   "metadata": {
    "collapsed": false
   },
   "outputs": [
    {
     "name": "stdout",
     "output_type": "stream",
     "text": [
      "Name\n",
      "Autobiographer\n"
     ]
    }
   ],
   "source": [
    "print badge_head[0]\n",
    "print first_row[badge_head[0]]\n",
    "#rows is a list of dictionary\n",
    "\n",
    "#print len(badge_head)\n",
    "#print range(0,len(badge_head))\n",
    "    "
   ]
  },
  {
   "cell_type": "code",
   "execution_count": 7,
   "metadata": {
    "collapsed": true
   },
   "outputs": [],
   "source": [
    "#set up the text analysis framework using the comments file\n",
    "tree_comments = ET.parse('stack-exchange-data-2/Comments.xml')\n",
    "root_comments = tree_comments.getroot()"
   ]
  },
  {
   "cell_type": "code",
   "execution_count": 8,
   "metadata": {
    "collapsed": true
   },
   "outputs": [],
   "source": [
    "rows_comments = [child.attrib for child in root_comments]"
   ]
  },
  {
   "cell_type": "code",
   "execution_count": 9,
   "metadata": {
    "collapsed": false
   },
   "outputs": [
    {
     "data": {
      "text/plain": [
       "['Score', 'Text', 'PostId', 'CreationDate', 'UserId', 'Id']"
      ]
     },
     "execution_count": 9,
     "metadata": {},
     "output_type": "execute_result"
    }
   ],
   "source": [
    "comments_head = rows_comments[0].keys()\n",
    "comments_head"
   ]
  },
  {
   "cell_type": "code",
   "execution_count": 10,
   "metadata": {
    "collapsed": false
   },
   "outputs": [],
   "source": [
    "#Interested in Text and Score\n",
    "#consider score vs number of words in the comments, \n",
    "#words that appear more frequently,\n",
    "#contains web links?, other?\n",
    "score_text = []\n",
    "for row in rows_comments:\n",
    "    score = int(row['Score'])\n",
    "    text = row['Text']\n",
    "    score_text.append([score,text])"
   ]
  },
  {
   "cell_type": "code",
   "execution_count": 11,
   "metadata": {
    "collapsed": false
   },
   "outputs": [
    {
     "data": {
      "text/plain": [
       "[[2,\n",
       "  \"Good naming convention and well structured code will help you decrease the comments need. Don`t forget that each line of comments you add it's a new line to maintain!!\"],\n",
       " [17, '+1 for truth, -1 for practicality. :)']]"
      ]
     },
     "execution_count": 11,
     "metadata": {},
     "output_type": "execute_result"
    }
   ],
   "source": [
    "#test code\n",
    "score_text[0:2]"
   ]
  },
  {
   "cell_type": "markdown",
   "metadata": {},
   "source": [
    "#### Build the data needed for the network\n",
    "-People who commented on a post are connected to each other and the poster  \n",
    "-The strength of the tie is the number of times they appear in the same post  \n",
    "-Each person will be tagged in a post as a poster or a commenter, so this can be analyzed separately  \n",
    "-an alternative measure of strength could be the score of their posts or comments"
   ]
  },
  {
   "cell_type": "code",
   "execution_count": 12,
   "metadata": {
    "collapsed": true
   },
   "outputs": [],
   "source": [
    "#Bring in the posts data - comments data has already been brought in\n",
    "tree_posts = ET.parse('stack-exchange-data-2/Posts.xml')\n",
    "root_posts = tree_posts.getroot()"
   ]
  },
  {
   "cell_type": "code",
   "execution_count": 13,
   "metadata": {
    "collapsed": true
   },
   "outputs": [],
   "source": [
    "#get a list of dictionaries with the fields\n",
    "rows_posts = [child.attrib for child in root_posts]"
   ]
  },
  {
   "cell_type": "code",
   "execution_count": 14,
   "metadata": {
    "collapsed": false
   },
   "outputs": [
    {
     "data": {
      "text/plain": [
       "['ViewCount',\n",
       " 'Title',\n",
       " 'CommunityOwnedDate',\n",
       " 'LastEditDate',\n",
       " 'AnswerCount',\n",
       " 'Score',\n",
       " 'PostTypeId',\n",
       " 'OwnerUserId',\n",
       " 'FavoriteCount',\n",
       " 'Body',\n",
       " 'ClosedDate',\n",
       " 'Tags',\n",
       " 'LastEditorUserId',\n",
       " 'LastActivityDate',\n",
       " 'CommentCount',\n",
       " 'AcceptedAnswerId',\n",
       " 'CreationDate',\n",
       " 'Id']"
      ]
     },
     "execution_count": 14,
     "metadata": {},
     "output_type": "execute_result"
    }
   ],
   "source": [
    "posts_head = rows_posts[0].keys()\n",
    "posts_head"
   ]
  },
  {
   "cell_type": "markdown",
   "metadata": {},
   "source": [
    "From comments bring in PostId, UserId, Score, and add a field (Post_Type) that identifies it as a comment.  \n",
    "\n",
    "From posts bring in Id (as PostId),OwnerUserId (as UserId), Score, and add a field (Post_Type) that identifies it as a post"
   ]
  },
  {
   "cell_type": "code",
   "execution_count": 15,
   "metadata": {
    "collapsed": false
   },
   "outputs": [],
   "source": [
    "posters = []\n",
    "\n",
    "for row in rows_posts:\n",
    "    \n",
    "    postid = row['Id']\n",
    "    #if a user is no longer active, there will be no userId, so the code\n",
    "    #will skip this post, if there are comments on the post they will still\n",
    "    #be included as long as those users are still present\n",
    "    if 'OwnerUserId' in row:\n",
    "        userid = row['OwnerUserId']\n",
    "    else:\n",
    "        continue\n",
    "    score = int(row['Score'])\n",
    "    post_type = 'post'\n",
    "    posters.append([postid,userid,score,post_type])"
   ]
  },
  {
   "cell_type": "code",
   "execution_count": 16,
   "metadata": {
    "collapsed": false
   },
   "outputs": [],
   "source": [
    "commenters = []\n",
    "\n",
    "for row in rows_comments:\n",
    "    postid = row['PostId']\n",
    "    if 'UserId' in row:\n",
    "        userid = row['UserId']\n",
    "    else:\n",
    "        continue\n",
    "    score = int(row['Score'])\n",
    "    post_type = 'comment'\n",
    "    commenters.append([postid,userid,score,post_type])"
   ]
  },
  {
   "cell_type": "code",
   "execution_count": 17,
   "metadata": {
    "collapsed": false
   },
   "outputs": [
    {
     "name": "stdout",
     "output_type": "stream",
     "text": [
      "[['1', '6', 100, 'post'], ['3', '11', 29, 'post']]\n",
      "[['3', '28', 2, 'comment'], ['20', '9', 17, 'comment']]\n"
     ]
    }
   ],
   "source": [
    "print posters[0:2]\n",
    "print commenters[0:2]"
   ]
  },
  {
   "cell_type": "markdown",
   "metadata": {},
   "source": [
    "For every post create pairs from the poster to each commenter and\n",
    "between commenters and evey other commentor.  \n",
    "\n",
    "To simplify just focus on userid to userid, ignore post_type and score for now\n",
    "\n",
    "\n",
    "???\n",
    "Create a dictionary of dictionaries\n",
    "postid: {postid:,userid1:,userid2,score1:,score2:,post_type1:,post_type2}"
   ]
  },
  {
   "cell_type": "code",
   "execution_count": 18,
   "metadata": {
    "collapsed": false
   },
   "outputs": [
    {
     "name": "stdout",
     "output_type": "stream",
     "text": [
      "[['1', '6', 100, 'post'], ['3', '11', 29, 'post']]\n",
      "[['330073', '3941', 0, 'comment'], ['330073', '61852', 0, 'comment']]\n",
      "172615\n"
     ]
    }
   ],
   "source": [
    "#test that it has the correct lists.\n",
    "combined = posters + commenters\n",
    "n = len(combined)\n",
    "print combined[0:2]\n",
    "print combined[n-2:n]\n",
    "\n",
    "#number of unique postid\n",
    "print len(set([x[0] for x in combined]))"
   ]
  },
  {
   "cell_type": "code",
   "execution_count": 19,
   "metadata": {
    "collapsed": false
   },
   "outputs": [],
   "source": [
    "#postid,userid,score,post_type\n",
    "#get list of unique postid\n",
    "postid_list = set([x[0] for x in combined])"
   ]
  },
  {
   "cell_type": "code",
   "execution_count": 20,
   "metadata": {
    "collapsed": false
   },
   "outputs": [
    {
     "data": {
      "text/plain": [
       "[{'postid': '287144', 'userid': ['5099', '183975', '5099']},\n",
       " {'postid': '228054', 'userid': ['118945', '80833', '73447']},\n",
       " {'postid': '270119', 'userid': ['13363']},\n",
       " {'postid': '228050', 'userid': ['118943']},\n",
       " {'postid': '329364', 'userid': ['17320']},\n",
       " {'postid': '287145', 'userid': ['109596']},\n",
       " {'postid': '44675', 'userid': ['10572', '287', '4623']},\n",
       " {'postid': '287149', 'userid': ['20065', '31950', '31950', '20065']},\n",
       " {'postid': '99682', 'userid': ['14142']},\n",
       " {'postid': '312487', 'userid': ['3819']},\n",
       " {'postid': '89370', 'userid': ['20579', '29074', '8810']},\n",
       " {'postid': '89371', 'userid': ['1503']},\n",
       " {'postid': '89374', 'userid': ['15331', '9293']},\n",
       " {'postid': '89375', 'userid': ['1362']},\n",
       " {'postid': '319459', 'userid': ['221754']},\n",
       " {'postid': '89378', 'userid': ['30155']},\n",
       " {'postid': '287140', 'userid': ['83499']},\n",
       " {'postid': '246175',\n",
       "  'userid': ['51654', '8144', '51654', '8144', '51654', '8144', '93183']},\n",
       " {'postid': '202448', 'userid': ['22685']},\n",
       " {'postid': '252939',\n",
       "  'userid': ['145801',\n",
       "   '5366',\n",
       "   '31260',\n",
       "   '110316',\n",
       "   '34183',\n",
       "   '9113',\n",
       "   '4127',\n",
       "   '16488']},\n",
       " {'postid': '256902', 'userid': ['127907', '127907']},\n",
       " {'postid': '83893', 'userid': ['27763']},\n",
       " {'postid': '278756',\n",
       "  'userid': ['174181', '31260', '174181', '56945', '174181', '174181']},\n",
       " {'postid': '256901', 'userid': ['149862']},\n",
       " {'postid': '286895', 'userid': ['22815']},\n",
       " {'postid': '286894', 'userid': ['-1']},\n",
       " {'postid': '288302', 'userid': ['17857']},\n",
       " {'postid': '232178', 'userid': ['116461']},\n",
       " {'postid': '286899', 'userid': ['182897']},\n",
       " {'postid': '286898', 'userid': ['32828', '40065', '32828', '156637']},\n",
       " {'postid': '5980', 'userid': ['1571', '2515', '1571']},\n",
       " {'postid': '256909', 'userid': ['139782', '31260', '139782', '31260']},\n",
       " {'postid': '5987', 'userid': ['841', '1806', '841']},\n",
       " {'postid': '103549', 'userid': ['32325', '32353']},\n",
       " {'postid': '155639',\n",
       "  'userid': ['483',\n",
       "   '4767',\n",
       "   '51654',\n",
       "   '483',\n",
       "   '4767',\n",
       "   '50424',\n",
       "   '483',\n",
       "   '14499',\n",
       "   '4767',\n",
       "   '51654',\n",
       "   '483',\n",
       "   '51654',\n",
       "   '13156',\n",
       "   '50424',\n",
       "   '6718',\n",
       "   '13593',\n",
       "   '13593',\n",
       "   '483',\n",
       "   '483',\n",
       "   '50424',\n",
       "   '50424',\n",
       "   '150974']},\n",
       " {'postid': '127479',\n",
       "  'userid': ['20294', '43959', '43961', '16247', '16929', '15455']},\n",
       " {'postid': '82448', 'userid': ['27242']},\n",
       " {'postid': '297047', 'userid': ['196251']},\n",
       " {'postid': '155630', 'userid': ['4327']},\n",
       " {'postid': '127472',\n",
       "  'userid': ['22695',\n",
       "   '5834',\n",
       "   '22695',\n",
       "   '22426',\n",
       "   '5834',\n",
       "   '22695',\n",
       "   '620',\n",
       "   '22695',\n",
       "   '5834']},\n",
       " {'postid': '103543', 'userid': ['12248', '16929', '12248', '38396', '12248']},\n",
       " {'postid': '103542', 'userid': ['34573']},\n",
       " {'postid': '82447', 'userid': ['10785', '25476']},\n",
       " {'postid': '82446',\n",
       "  'userid': ['27242', '13612', '22390', '25476', '13612', '226']},\n",
       " {'postid': '82445', 'userid': ['27001']},\n",
       " {'postid': '82444',\n",
       "  'userid': ['25476',\n",
       "   '1560',\n",
       "   '25476',\n",
       "   '1463',\n",
       "   '25476',\n",
       "   '226',\n",
       "   '25476',\n",
       "   '13612',\n",
       "   '226',\n",
       "   '25476',\n",
       "   '226',\n",
       "   '13612',\n",
       "   '1560',\n",
       "   '1463',\n",
       "   '25476',\n",
       "   '6582',\n",
       "   '21448']},\n",
       " {'postid': '120128', 'userid': ['34229', '25936']},\n",
       " {'postid': '120129', 'userid': ['4', '11908', '8434']},\n",
       " {'postid': '31737', 'userid': ['4368', '442']},\n",
       " {'postid': '83895', 'userid': ['2305']},\n",
       " {'postid': '254376',\n",
       "  'userid': ['147232',\n",
       "   '64132',\n",
       "   '147232',\n",
       "   '17898',\n",
       "   '35693',\n",
       "   '22815',\n",
       "   '35693',\n",
       "   '147232']},\n",
       " {'postid': '120120', 'userid': ['9742']},\n",
       " {'postid': '120122', 'userid': ['23991']},\n",
       " {'postid': '111270', 'userid': ['6718']},\n",
       " {'postid': '120125', 'userid': ['40938', '7043', '11905']},\n",
       " {'postid': '120126',\n",
       "  'userid': ['4280',\n",
       "   '5512',\n",
       "   '13156',\n",
       "   '2429',\n",
       "   '2292',\n",
       "   '2429',\n",
       "   '4280',\n",
       "   '6222',\n",
       "   '28477',\n",
       "   '48458',\n",
       "   '116461',\n",
       "   '160511']},\n",
       " {'postid': '208201', 'userid': ['99561', '56691', '99561']},\n",
       " {'postid': '297342', 'userid': ['48538']},\n",
       " {'postid': '252560', 'userid': ['3965']},\n",
       " {'postid': '235388', 'userid': ['42685']},\n",
       " {'postid': '79237', 'userid': ['6938', '25517']},\n",
       " {'postid': '236069', 'userid': ['1093', '22815']},\n",
       " {'postid': '235383', 'userid': ['126402', '13305', '126402']},\n",
       " {'postid': '235381', 'userid': ['126402']},\n",
       " {'postid': '316989', 'userid': ['161917']},\n",
       " {'postid': '235386', 'userid': ['126402']},\n",
       " {'postid': '173155', 'userid': ['28969']},\n",
       " {'postid': '31736', 'userid': ['11974', '7575']},\n",
       " {'postid': '232172', 'userid': ['-1']},\n",
       " {'postid': '173151', 'userid': ['61659']},\n",
       " {'postid': '173150', 'userid': ['4484', '62203', '4484']},\n",
       " {'postid': '173153', 'userid': ['71561', '611', '71561', '611', '71561']},\n",
       " {'postid': '173152', 'userid': ['2355', '6718', '56283', '2355', '22685']},\n",
       " {'postid': '254370', 'userid': ['28994']},\n",
       " {'postid': '328554', 'userid': ['242404']},\n",
       " {'postid': '97159', 'userid': ['32825']},\n",
       " {'postid': '232177', 'userid': ['14409']},\n",
       " {'postid': '244760', 'userid': ['10502', '136389', '10502', '136389']},\n",
       " {'postid': '97150', 'userid': ['7222']},\n",
       " {'postid': '244763', 'userid': ['73447']},\n",
       " {'postid': '97154', 'userid': ['32821', '2498', '32821', '855', '32821']},\n",
       " {'postid': '246073',\n",
       "  'userid': ['66654',\n",
       "   '134583',\n",
       "   '7043',\n",
       "   '33886',\n",
       "   '66654',\n",
       "   '620',\n",
       "   '25768',\n",
       "   '58581']},\n",
       " {'postid': '322904', 'userid': ['164151']},\n",
       " {'postid': '322905', 'userid': ['855']},\n",
       " {'postid': '322902', 'userid': ['234362']},\n",
       " {'postid': '322903', 'userid': ['6644']},\n",
       " {'postid': '322900', 'userid': ['134875', '1204', '134875', '1204']},\n",
       " {'postid': '312483', 'userid': ['220094', '22815', '22815']},\n",
       " {'postid': '264697',\n",
       "  'userid': ['158008',\n",
       "   '1204',\n",
       "   '1204',\n",
       "   '31260',\n",
       "   '1204',\n",
       "   '1204',\n",
       "   '31260',\n",
       "   '158008',\n",
       "   '1204',\n",
       "   '1204',\n",
       "   '158008']},\n",
       " {'postid': '260291', 'userid': ['144967']},\n",
       " {'postid': '260290', 'userid': ['34069']},\n",
       " {'postid': '260297', 'userid': ['24421', '153022', '5099', '123768']},\n",
       " {'postid': '260296', 'userid': ['153022']},\n",
       " {'postid': '322908', 'userid': ['196981']},\n",
       " {'postid': '218138', 'userid': ['79330', '108445', '35276']},\n",
       " {'postid': '286235', 'userid': ['182954']},\n",
       " {'postid': '271', 'userid': ['101', '211', '17853']},\n",
       " {'postid': '273', 'userid': ['24', '2528']},\n",
       " {'postid': '16709', 'userid': ['6677']},\n",
       " {'postid': '16708', 'userid': ['5323', '4260', '12609', '107178']},\n",
       " {'postid': '276', 'userid': ['89', '86', '89']},\n",
       " {'postid': '286232', 'userid': ['96532']},\n",
       " {'postid': '278', 'userid': ['101']},\n",
       " {'postid': '195518', 'userid': ['30278']},\n",
       " {'postid': '16707', 'userid': ['5516', '4', '1093']},\n",
       " {'postid': '244766', 'userid': ['136395', '136389']},\n",
       " {'postid': '16701', 'userid': ['3382', '29020']},\n",
       " {'postid': '286238', 'userid': ['1161', '31260', '1161']},\n",
       " {'postid': '16703', 'userid': ['6591', '2344', '3852']},\n",
       " {'postid': '254817', 'userid': ['147613']},\n",
       " {'postid': '88023', 'userid': ['5095']},\n",
       " {'postid': '140355', 'userid': ['23918']},\n",
       " {'postid': '245827', 'userid': ['99317', '114930']},\n",
       " {'postid': '88020', 'userid': ['587']},\n",
       " {'postid': '245821', 'userid': ['5555']},\n",
       " {'postid': '245820', 'userid': ['109440']},\n",
       " {'postid': '88025', 'userid': ['27466']},\n",
       " {'postid': '88024', 'userid': ['855']},\n",
       " {'postid': '234561', 'userid': ['3965', '18519']},\n",
       " {'postid': '194083',\n",
       "  'userid': ['81480', '16764', '81480', '3965', '81480', '16764']},\n",
       " {'postid': '323059', 'userid': ['116777']},\n",
       " {'postid': '319693',\n",
       "  'userid': ['199595',\n",
       "   '81495',\n",
       "   '1204',\n",
       "   '224472',\n",
       "   '199595',\n",
       "   '36403',\n",
       "   '193669']},\n",
       " {'postid': '245829', 'userid': ['138500', '134375', '138500', '111277']},\n",
       " {'postid': '140357', 'userid': ['34148']},\n",
       " {'postid': '17259', 'userid': ['4819']},\n",
       " {'postid': '100014', 'userid': ['2983']},\n",
       " {'postid': '100015', 'userid': ['32436']},\n",
       " {'postid': '100012', 'userid': ['16992', '13156', '16992']},\n",
       " {'postid': '100013', 'userid': ['10180']},\n",
       " {'postid': '100010',\n",
       "  'userid': ['28887', '12939', '11785', '28887', '934', '13258']},\n",
       " {'postid': '100011', 'userid': ['5044', '33747']},\n",
       " {'postid': '52460', 'userid': ['38']},\n",
       " {'postid': '17251', 'userid': ['5635', '5933', '5404']},\n",
       " {'postid': '17253', 'userid': ['1468']},\n",
       " {'postid': '17254', 'userid': ['2210', '4688', '8810', '2210']},\n",
       " {'postid': '17255', 'userid': ['572', '1973']},\n",
       " {'postid': '17256', 'userid': ['1921', '4217', '1921']},\n",
       " {'postid': '17257', 'userid': ['4127', '3063', '6279']},\n",
       " {'postid': '63024', 'userid': ['6644']},\n",
       " {'postid': '140353', 'userid': ['47233', '8553']},\n",
       " {'postid': '95799', 'userid': ['32288', '8434', '32288']},\n",
       " {'postid': '95798', 'userid': ['2446', '22098']},\n",
       " {'postid': '235967',\n",
       "  'userid': ['30030',\n",
       "   '116461',\n",
       "   '30030',\n",
       "   '1204',\n",
       "   '30030',\n",
       "   '121126',\n",
       "   '30030',\n",
       "   '91639',\n",
       "   '91639',\n",
       "   '91639',\n",
       "   '30030']},\n",
       " {'postid': '10702', 'userid': ['4389']},\n",
       " {'postid': '95795', 'userid': ['11107', '14986', '50749', '165', '5531']},\n",
       " {'postid': '10700', 'userid': ['2550', '238']},\n",
       " {'postid': '63028', 'userid': ['21461', '2344', '21461', '10106', '2429']},\n",
       " {'postid': '53736', 'userid': ['13899']},\n",
       " {'postid': '95791', 'userid': ['902', '2429', '902', '2429', '902']},\n",
       " {'postid': '53734', 'userid': ['5123']},\n",
       " {'postid': '176062', 'userid': ['7706', '34162']},\n",
       " {'postid': '176063', 'userid': ['67058']},\n",
       " {'postid': '321661', 'userid': ['63202', '198703', '198703', '198703']},\n",
       " {'postid': '286892', 'userid': ['-1']},\n",
       " {'postid': '49569', 'userid': ['99', '4771']},\n",
       " {'postid': '21618', 'userid': ['1204', '8015', '1204', '6279', '6279']},\n",
       " {'postid': '176064', 'userid': ['72787']},\n",
       " {'postid': '176065', 'userid': ['43452', '13866', '12917']},\n",
       " {'postid': '49564', 'userid': ['6735', '4771']},\n",
       " {'postid': '21617', 'userid': ['8015', '6586']},\n",
       " {'postid': '49566', 'userid': ['2359', '27031']},\n",
       " {'postid': '21611',\n",
       "  'userid': ['5505', '1014', '1554', '934', '1014', '5505', '1014', '5505']},\n",
       " {'postid': '200806', 'userid': ['57593', '3631', '100281']},\n",
       " {'postid': '111275', 'userid': ['2344', '19389', '114320']},\n",
       " {'postid': '194085', 'userid': ['65618', '620']},\n",
       " {'postid': '114304', 'userid': ['13609']},\n",
       " {'postid': '286896', 'userid': ['183714']},\n",
       " {'postid': '319384', 'userid': ['22815', '105684', '22815']},\n",
       " {'postid': '152436', 'userid': ['56465']},\n",
       " {'postid': '124352', 'userid': ['35490', '514', '3826', '1683', '35490']},\n",
       " {'postid': '250999', 'userid': ['121226']},\n",
       " {'postid': '124350', 'userid': ['20379', '7427']},\n",
       " {'postid': '124357', 'userid': ['42660']},\n",
       " {'postid': '42089', 'userid': ['4091', '101', '4091', '7990']},\n",
       " {'postid': '124355', 'userid': ['514']},\n",
       " {'postid': '64775', 'userid': ['1028']},\n",
       " {'postid': '250992', 'userid': ['7422', '144272', '7422', '144272']},\n",
       " {'postid': '250991',\n",
       "  'userid': ['13154',\n",
       "   '7043',\n",
       "   '48999',\n",
       "   '29020',\n",
       "   '52672',\n",
       "   '115557',\n",
       "   '29020',\n",
       "   '16488',\n",
       "   '7043',\n",
       "   '29020']},\n",
       " {'postid': '124358', 'userid': ['20222']},\n",
       " {'postid': '306940', 'userid': ['210378', '81495']},\n",
       " {'postid': '250996',\n",
       "  'userid': ['6605',\n",
       "   '29020',\n",
       "   '143965',\n",
       "   '13154',\n",
       "   '25476',\n",
       "   '58581',\n",
       "   '58581',\n",
       "   '144158']},\n",
       " {'postid': '250995', 'userid': ['5099']},\n",
       " {'postid': '250994', 'userid': ['57387', '51367', '57387']},\n",
       " {'postid': '125400', 'userid': ['4', '4942', '4', '4942', '4', '4942']},\n",
       " {'postid': '125401', 'userid': ['37572']},\n",
       " {'postid': '125402', 'userid': ['43117']},\n",
       " {'postid': '125403', 'userid': ['6335', '43117', '6335', '25476', '43117']},\n",
       " {'postid': '125405', 'userid': ['36173', '37526', '16929', '17315', '10097']},\n",
       " {'postid': '168085', 'userid': ['8820']},\n",
       " {'postid': '125407', 'userid': ['12629', '43117']},\n",
       " {'postid': '125408',\n",
       "  'userid': ['2431', '38547', '2431', '16929', '2431', '9742', '1033', '855']},\n",
       " {'postid': '125409',\n",
       "  'userid': ['7454', '21729', '5983', '5084', '5983', '63971']},\n",
       " {'postid': '168089', 'userid': ['12893', '2234', '25936', '25936', '12893']},\n",
       " {'postid': '257765', 'userid': ['4854']},\n",
       " {'postid': '46869', 'userid': ['9293']},\n",
       " {'postid': '46868', 'userid': ['16864']},\n",
       " {'postid': '58078', 'userid': ['5149']},\n",
       " {'postid': '160258',\n",
       "  'userid': ['35793', '32353', '32353', '32353', '35793', '32353']},\n",
       " {'postid': '160259', 'userid': ['9852', '49117']},\n",
       " {'postid': '46861', 'userid': ['897', '2344', '66', '6591']},\n",
       " {'postid': '46860', 'userid': ['16864', '16900', '3184', '16864']},\n",
       " {'postid': '46863', 'userid': ['1961', '8281']},\n",
       " {'postid': '46862', 'userid': ['9293']},\n",
       " {'postid': '160252', 'userid': ['60682', '61533']},\n",
       " {'postid': '46864', 'userid': ['16718', '9495', '16718']},\n",
       " {'postid': '46867', 'userid': ['3907', '13740']},\n",
       " {'postid': '160251', 'userid': ['40018', '56655']},\n",
       " {'postid': '158718', 'userid': ['-1']},\n",
       " {'postid': '155638', 'userid': ['58506', '1554', '58506']},\n",
       " {'postid': '312588', 'userid': ['3965']},\n",
       " {'postid': '48627', 'userid': ['7723', '12931']},\n",
       " {'postid': '158712', 'userid': ['611']},\n",
       " {'postid': '158713', 'userid': ['57550']},\n",
       " {'postid': '43262', 'userid': ['15369', '6178']},\n",
       " {'postid': '158715',\n",
       "  'userid': ['60447',\n",
       "   '2234',\n",
       "   '59999',\n",
       "   '55400',\n",
       "   '10445',\n",
       "   '41896',\n",
       "   '60447',\n",
       "   '32497']},\n",
       " {'postid': '158716',\n",
       "  'userid': ['60408',\n",
       "   '2234',\n",
       "   '60408',\n",
       "   '60408',\n",
       "   '52949',\n",
       "   '60408',\n",
       "   '52949',\n",
       "   '16247',\n",
       "   '16247',\n",
       "   '60408',\n",
       "   '60408',\n",
       "   '16247',\n",
       "   '60408',\n",
       "   '60408',\n",
       "   '16247']},\n",
       " {'postid': '158717',\n",
       "  'userid': ['2234',\n",
       "   '60408',\n",
       "   '60408',\n",
       "   '2234',\n",
       "   '60408',\n",
       "   '2234',\n",
       "   '60408',\n",
       "   '2234',\n",
       "   '60408',\n",
       "   '2234',\n",
       "   '60408',\n",
       "   '2234']},\n",
       " {'postid': '62360', 'userid': ['6294', '14372']},\n",
       " {'postid': '127478', 'userid': ['620', '22695', '620']},\n",
       " {'postid': '291468', 'userid': ['3184']},\n",
       " {'postid': '48628', 'userid': ['19', '17612']},\n",
       " {'postid': '312489', 'userid': ['902']},\n",
       " {'postid': '224972', 'userid': ['115607', '60357', '13154']},\n",
       " {'postid': '194088', 'userid': ['15162']},\n",
       " {'postid': '176686', 'userid': ['54700', '43451', '60894']},\n",
       " {'postid': '176687', 'userid': ['53019', '72802', '53019']},\n",
       " {'postid': '176684',\n",
       "  'userid': ['4365', '60327', '4365', '60327', '4365', '60327']},\n",
       " {'postid': '94081', 'userid': ['16637', '10306']},\n",
       " {'postid': '176683', 'userid': ['20379']},\n",
       " {'postid': '163509',\n",
       "  'userid': ['52610',\n",
       "   '5050',\n",
       "   '620',\n",
       "   '52610',\n",
       "   '31260',\n",
       "   '52610',\n",
       "   '31260',\n",
       "   '31260',\n",
       "   '52610',\n",
       "   '22493']},\n",
       " {'postid': '163508', 'userid': ['63339']},\n",
       " {'postid': '163506', 'userid': ['7690', '31024']},\n",
       " {'postid': '163505', 'userid': ['3762', '53164', '3762']},\n",
       " {'postid': '163504', 'userid': ['63338', '53019']},\n",
       " {'postid': '163503', 'userid': ['51669', '63253', '51669']},\n",
       " {'postid': '163502', 'userid': ['53164']},\n",
       " {'postid': '163501',\n",
       "  'userid': ['36039',\n",
       "   '68823',\n",
       "   '36039',\n",
       "   '124794',\n",
       "   '58581',\n",
       "   '124794',\n",
       "   '58581',\n",
       "   '124794',\n",
       "   '58581',\n",
       "   '124794']},\n",
       " {'postid': '163500',\n",
       "  'userid': ['62957', '53655', '62957', '53655', '62957', '53655']},\n",
       " {'postid': '112958', 'userid': ['6112', '36006']},\n",
       " {'postid': '112959',\n",
       "  'userid': ['29270', '38139', '35639', '131', '38139', '35639', '38139']},\n",
       " {'postid': '34609',\n",
       "  'userid': ['8622', '10106', '8622', '101', '1865', '8622']},\n",
       " {'postid': '155631', 'userid': ['23742', '464']},\n",
       " {'postid': '112950', 'userid': ['15443', '33816']},\n",
       " {'postid': '112951', 'userid': ['10037', '9046']},\n",
       " {'postid': '111279', 'userid': ['8776']},\n",
       " {'postid': '112953', 'userid': ['38139', '6384', '4']},\n",
       " {'postid': '112954', 'userid': ['4', '33478', '1806']},\n",
       " {'postid': '112955',\n",
       "  'userid': ['7422',\n",
       "   '36006',\n",
       "   '6384',\n",
       "   '8709',\n",
       "   '8709',\n",
       "   '2406',\n",
       "   '32353',\n",
       "   '112',\n",
       "   '38200',\n",
       "   '32353',\n",
       "   '37927',\n",
       "   '6279',\n",
       "   '8709',\n",
       "   '8709',\n",
       "   '6384']},\n",
       " {'postid': '112956', 'userid': ['33564']},\n",
       " {'postid': '112957', 'userid': ['10600', '15431']},\n",
       " {'postid': '290080',\n",
       "  'userid': ['136413', '29181', '144721', '69268', '58581']},\n",
       " {'postid': '155633', 'userid': ['20379', '58499', '20379']},\n",
       " {'postid': '257766', 'userid': ['3965', '153279']},\n",
       " {'postid': '22744', 'userid': ['2297', '8035']},\n",
       " {'postid': '103545', 'userid': ['2752']},\n",
       " {'postid': '129700', 'userid': ['44984', '39178', '44984']},\n",
       " {'postid': '155635', 'userid': ['6314', '58499']},\n",
       " {'postid': '237529', 'userid': ['33869', '1204', '33869', '1204']},\n",
       " {'postid': '200807',\n",
       "  'userid': ['3852',\n",
       "   '34034',\n",
       "   '34034',\n",
       "   '25811',\n",
       "   '34034',\n",
       "   '34034',\n",
       "   '58581',\n",
       "   '34034',\n",
       "   '3852',\n",
       "   '3852']},\n",
       " {'postid': '103547', 'userid': ['10563']},\n",
       " {'postid': '304925', 'userid': ['46624']},\n",
       " {'postid': '13052', 'userid': ['5677']},\n",
       " {'postid': '13053', 'userid': ['1925']},\n",
       " {'postid': '13050',\n",
       "  'userid': ['1973',\n",
       "   '136',\n",
       "   '4438',\n",
       "   '2654',\n",
       "   '4438',\n",
       "   '1973',\n",
       "   '4438',\n",
       "   '1973',\n",
       "   '4438',\n",
       "   '1973',\n",
       "   '1973',\n",
       "   '1525',\n",
       "   '1973',\n",
       "   '1525',\n",
       "   '1973',\n",
       "   '9521',\n",
       "   '27161',\n",
       "   '27161']},\n",
       " {'postid': '127474', 'userid': ['2429']},\n",
       " {'postid': '237525', 'userid': ['55668', '125043', '55668']},\n",
       " {'postid': '13057', 'userid': ['3834', '934', '2620']},\n",
       " {'postid': '237527',\n",
       "  'userid': ['61852',\n",
       "   '121368',\n",
       "   '61852',\n",
       "   '61852',\n",
       "   '121368',\n",
       "   '61852',\n",
       "   '122584',\n",
       "   '103810',\n",
       "   '61852',\n",
       "   '122584']},\n",
       " {'postid': '237526', 'userid': ['121368']},\n",
       " {'postid': '285155', 'userid': ['159954']},\n",
       " {'postid': '285154',\n",
       "  'userid': ['181518', '13154', '6967', '31260', '172693']},\n",
       " {'postid': '285157', 'userid': ['620']},\n",
       " {'postid': '285156', 'userid': ['131624']},\n",
       " {'postid': '285150', 'userid': ['161437']},\n",
       " {'postid': '22745', 'userid': ['131', '6555']},\n",
       " {'postid': '260520', 'userid': ['31673']},\n",
       " {'postid': '234609', 'userid': ['82846']},\n",
       " {'postid': '285159', 'userid': ['31673', '145808', '145808']},\n",
       " {'postid': '237864', 'userid': ['6605', '60174', '2597']},\n",
       " {'postid': '323892', 'userid': ['155467']},\n",
       " {'postid': '256124', 'userid': ['105183', '7806']},\n",
       " {'postid': '256125',\n",
       "  'userid': ['136221',\n",
       "   '31260',\n",
       "   '136221',\n",
       "   '136221',\n",
       "   '136221',\n",
       "   '36853',\n",
       "   '136221']},\n",
       " {'postid': '256126', 'userid': ['140031']},\n",
       " {'postid': '256127', 'userid': ['5048', '136221', '136221']},\n",
       " {'postid': '243182', 'userid': ['134583']},\n",
       " {'postid': '256121',\n",
       "  'userid': ['46117',\n",
       "   '855',\n",
       "   '46117',\n",
       "   '9007',\n",
       "   '46117',\n",
       "   '91196',\n",
       "   '9113',\n",
       "   '9113',\n",
       "   '16929']},\n",
       " {'postid': '256122', 'userid': ['102856', '129832']},\n",
       " {'postid': '256123', 'userid': ['85449', '2907', '85449', '2907']},\n",
       " {'postid': '68800', 'userid': ['22593', '20757', '23272', '22593', '23095']},\n",
       " {'postid': '260524', 'userid': ['39877', '5084', '39877', '5084']},\n",
       " {'postid': '40320', 'userid': ['14221', '8646', '14221']},\n",
       " {'postid': '290487', 'userid': ['149904']},\n",
       " {'postid': '237597', 'userid': ['121368']},\n",
       " {'postid': '290480', 'userid': ['175281']},\n",
       " {'postid': '137954', 'userid': ['14363']},\n",
       " {'postid': '304545', 'userid': ['122318']},\n",
       " {'postid': '290489', 'userid': ['115171']},\n",
       " {'postid': '137957', 'userid': ['20065']},\n",
       " {'postid': '271693', 'userid': ['161917']},\n",
       " {'postid': '44424', 'userid': ['26711']},\n",
       " {'postid': '44420', 'userid': ['38069']},\n",
       " {'postid': '40324', 'userid': ['6735']},\n",
       " {'postid': '315952', 'userid': ['172']},\n",
       " {'postid': '239024', 'userid': ['129348']},\n",
       " {'postid': '44429', 'userid': ['39774']},\n",
       " {'postid': '237730', 'userid': ['93868']},\n",
       " {'postid': '215306',\n",
       "  'userid': ['104487', '98351', '104487', '47112', '104487', '34327']},\n",
       " {'postid': '137953', 'userid': ['22493', '34388']},\n",
       " {'postid': '314412',\n",
       "  'userid': ['212658', '53141', '222750', '212658', '222750']},\n",
       " {'postid': '303231', 'userid': ['198721', '1343', '161917', '158202']},\n",
       " {'postid': '218607', 'userid': ['108884', '45759']},\n",
       " {'postid': '228160',\n",
       "  'userid': ['119036',\n",
       "   '109557',\n",
       "   '119036',\n",
       "   '1204',\n",
       "   '119036',\n",
       "   '1204',\n",
       "   '119036']},\n",
       " {'postid': '224973', 'userid': ['96340']},\n",
       " {'postid': '179872', 'userid': ['75384']},\n",
       " {'postid': '27619', 'userid': ['1204']},\n",
       " {'postid': '296888', 'userid': ['126422']},\n",
       " {'postid': '296887', 'userid': ['119484']},\n",
       " {'postid': '27615', 'userid': ['1204', '12436']},\n",
       " {'postid': '296884', 'userid': ['116777']},\n",
       " {'postid': '27613', 'userid': ['7308', '290']},\n",
       " {'postid': '27612',\n",
       "  'userid': ['897',\n",
       "   '10080',\n",
       "   '2654',\n",
       "   '7990',\n",
       "   '9932',\n",
       "   '10895',\n",
       "   '290',\n",
       "   '5497',\n",
       "   '10800',\n",
       "   '14721',\n",
       "   '27338']},\n",
       " {'postid': '296881', 'userid': ['196051', '855', '196051']},\n",
       " {'postid': '129233', 'userid': ['1033', '3542']},\n",
       " {'postid': '129232',\n",
       "  'userid': ['855', '866', '25476', '25476', '866', '25476']},\n",
       " {'postid': '120776', 'userid': ['40462', '4642', '39782', '3762']},\n",
       " {'postid': '129236', 'userid': ['855', '1525', '8668']},\n",
       " {'postid': '129234',\n",
       "  'userid': ['44770', '8668', '20757', '44770', '44770', '8668', '3446']},\n",
       " {'postid': '97931', 'userid': ['24257']},\n",
       " {'postid': '193170', 'userid': ['28877']},\n",
       " {'postid': '97933', 'userid': ['667', '17561', '667', '17561']},\n",
       " {'postid': '97932', 'userid': ['32803']},\n",
       " {'postid': '97935',\n",
       "  'userid': ['1973',\n",
       "   '897',\n",
       "   '1973',\n",
       "   '897',\n",
       "   '17898',\n",
       "   '14245',\n",
       "   '1973',\n",
       "   '3316',\n",
       "   '33952',\n",
       "   '14245',\n",
       "   '6279',\n",
       "   '1973']},\n",
       " {'postid': '97934', 'userid': ['33177']},\n",
       " {'postid': '97937', 'userid': ['6582']},\n",
       " {'postid': '83764', 'userid': ['26978', '6586']},\n",
       " {'postid': '238877', 'userid': ['114597', '92356', '18261', '114597']},\n",
       " {'postid': '238874', 'userid': ['125730']},\n",
       " {'postid': '238875', 'userid': ['114597', '29029']},\n",
       " {'postid': '238873', 'userid': ['130112']},\n",
       " {'postid': '238870',\n",
       "  'userid': ['1204', '1343', '1204', '1343', '1204', '1343']},\n",
       " {'postid': '238871', 'userid': ['53141', '130104', '8434']},\n",
       " {'postid': '263172', 'userid': ['34069']},\n",
       " {'postid': '250708',\n",
       "  'userid': ['7422',\n",
       "   '138451',\n",
       "   '20580',\n",
       "   '138451',\n",
       "   '6294',\n",
       "   '16929',\n",
       "   '6294',\n",
       "   '145402']},\n",
       " {'postid': '263177', 'userid': ['100430']},\n",
       " {'postid': '238879', 'userid': ['26494', '125081', '26494']},\n",
       " {'postid': '302826', 'userid': ['22685', '162466']},\n",
       " {'postid': '252601', 'userid': ['7422']},\n",
       " {'postid': '108868', 'userid': ['11982', '11982', '27003', '6801']},\n",
       " {'postid': '195806', 'userid': ['83865']},\n",
       " {'postid': '300255', 'userid': ['6390', '7043']},\n",
       " {'postid': '106355', 'userid': ['3650']},\n",
       " {'postid': '65889', 'userid': ['6695']},\n",
       " {'postid': '195804', 'userid': ['6279']},\n",
       " {'postid': '271120',\n",
       "  'userid': ['116766', '7422', '116766', '44277', '31260', '9113']},\n",
       " {'postid': '8544',\n",
       "  'userid': ['3262', '855', '226', '3262', '389', '9174', '8183']},\n",
       " {'postid': '65882', 'userid': ['22365', '22365', '22685', '63722']},\n",
       " {'postid': '319465',\n",
       "  'userid': ['27804', '1204', '27804', '111895', '27804', '111895']},\n",
       " {'postid': '257655', 'userid': ['12902', '124757', '29029']},\n",
       " {'postid': '92263', 'userid': ['31102', '855', '3965', '24028']},\n",
       " {'postid': '92260', 'userid': ['19963']},\n",
       " {'postid': '92261', 'userid': ['12921']},\n",
       " {'postid': '92266',\n",
       "  'userid': ['5834',\n",
       "   '28940',\n",
       "   '5834',\n",
       "   '11982',\n",
       "   '12436',\n",
       "   '28940',\n",
       "   '5834',\n",
       "   '5834',\n",
       "   '935',\n",
       "   '5834']},\n",
       " {'postid': '195801',\n",
       "  'userid': ['30278',\n",
       "   '29955',\n",
       "   '5024',\n",
       "   '24028',\n",
       "   '1352',\n",
       "   '855',\n",
       "   '5024',\n",
       "   '30278',\n",
       "   '30278',\n",
       "   '5024',\n",
       "   '5024',\n",
       "   '90576']},\n",
       " {'postid': '200045', 'userid': ['58128']},\n",
       " {'postid': '119047', 'userid': ['25404', '1458']},\n",
       " {'postid': '119045', 'userid': ['40492']},\n",
       " {'postid': '195800', 'userid': ['55140', '13096', '64132', '55140', '26034']},\n",
       " {'postid': '257659', 'userid': ['103863']},\n",
       " {'postid': '119042', 'userid': ['37343', '13550', '37343']},\n",
       " {'postid': '119040', 'userid': ['40451']},\n",
       " {'postid': '66504', 'userid': ['6605']},\n",
       " {'postid': '145439', 'userid': ['7885']},\n",
       " {'postid': '50418', 'userid': ['8924']},\n",
       " {'postid': '122710',\n",
       "  'userid': ['25936', '25936', '12436', '12436', '25936', '12436']},\n",
       " {'postid': '66502', 'userid': ['17494']},\n",
       " {'postid': '66503', 'userid': ['6695']},\n",
       " {'postid': '145432', 'userid': ['29020']},\n",
       " {'postid': '145431', 'userid': ['50207']},\n",
       " {'postid': '145430', 'userid': ['44014', '9007', '44014', '79890']},\n",
       " {'postid': '145437', 'userid': ['48052', '31260', '12917', '5109']},\n",
       " {'postid': '66509', 'userid': ['22511', '22500', '1354']},\n",
       " {'postid': '50415', 'userid': ['17813']},\n",
       " {'postid': '223201', 'userid': ['7575']},\n",
       " {'postid': '223200', 'userid': ['66032']},\n",
       " {'postid': '223203',\n",
       "  'userid': ['113753', '9425', '20673', '27726', '82479', '113753']},\n",
       " {'postid': '325131', 'userid': ['38663']},\n",
       " {'postid': '223205', 'userid': ['30278', '210998']},\n",
       " {'postid': '223207', 'userid': ['46194']},\n",
       " {'postid': '88394', 'userid': ['16273']},\n",
       " {'postid': '212726', 'userid': ['38200', '22584', '38200']},\n",
       " {'postid': '200043', 'userid': ['92689', '82479']},\n",
       " {'postid': '88397',\n",
       "  'userid': ['26824',\n",
       "   '4642',\n",
       "   '26824',\n",
       "   '4642',\n",
       "   '26824',\n",
       "   '4642',\n",
       "   '27161',\n",
       "   '27881',\n",
       "   '99274',\n",
       "   '26824']},\n",
       " {'postid': '210048', 'userid': ['100837']},\n",
       " {'postid': '52811', 'userid': ['8820', '12611', '8820', '12611']},\n",
       " {'postid': '52810', 'userid': ['18497', '22390', '18452']},\n",
       " {'postid': '52812', 'userid': ['8709']},\n",
       " {'postid': '52814', 'userid': ['17947', '7454']},\n",
       " {'postid': '52817', 'userid': ['3354']},\n",
       " {'postid': '52816', 'userid': ['4091', '10037', '9971']},\n",
       " {'postid': '52819', 'userid': ['16637', '7748', '8324']},\n",
       " {'postid': '52818', 'userid': ['9655']},\n",
       " {'postid': '212725', 'userid': ['22685', '80283', '1554', '101258', '14363']},\n",
       " {'postid': '141161',\n",
       "  'userid': ['18074',\n",
       "   '18074',\n",
       "   '16375',\n",
       "   '13612',\n",
       "   '13612',\n",
       "   '13612',\n",
       "   '18074',\n",
       "   '40724',\n",
       "   '13612',\n",
       "   '16929',\n",
       "   '36879']},\n",
       " {'postid': '311178', 'userid': ['60357', '191693']},\n",
       " {'postid': '60902', 'userid': ['1921', '19933', '1921', '17426', '26856']},\n",
       " {'postid': '8291', 'userid': ['1373', '18', '2616']},\n",
       " {'postid': '60900', 'userid': ['15177']},\n",
       " {'postid': '107898',\n",
       "  'userid': ['3852', '4', '3852', '4', '4', '3852', '51061']},\n",
       " {'postid': '54303', 'userid': ['5692']},\n",
       " {'postid': '26568', 'userid': ['6673']},\n",
       " {'postid': '60905', 'userid': ['16929', '17426', '16929', '17426']},\n",
       " {'postid': '107892', 'userid': ['33839']},\n",
       " {'postid': '107891',\n",
       "  'userid': ['25476',\n",
       "   '31457',\n",
       "   '25476',\n",
       "   '148',\n",
       "   '25476',\n",
       "   '25476',\n",
       "   '1788',\n",
       "   '25476']},\n",
       " {'postid': '107890', 'userid': ['2983', '1996']},\n",
       " {'postid': '107897', 'userid': ['31418']},\n",
       " {'postid': '256719', 'userid': ['9113', '82479', '9113']},\n",
       " {'postid': '26560', 'userid': ['4526', '7146']},\n",
       " {'postid': '26561', 'userid': ['1204', '9771']},\n",
       " {'postid': '8292',\n",
       "  'userid': ['1130', '712', '4077', '3842', '935', '2416', '897']},\n",
       " {'postid': '306445',\n",
       "  'userid': ['209665', '1204', '209665', '95212', '209665']},\n",
       " {'postid': '141160', 'userid': ['14363', '41381', '14363']},\n",
       " {'postid': '291586',\n",
       "  'userid': ['123788',\n",
       "   '58581',\n",
       "   '58581',\n",
       "   '123788',\n",
       "   '155513',\n",
       "   '620',\n",
       "   '155513',\n",
       "   '58581',\n",
       "   '58581']},\n",
       " {'postid': '311177',\n",
       "  'userid': ['9266',\n",
       "   '9113',\n",
       "   '73508',\n",
       "   '9266',\n",
       "   '9266',\n",
       "   '9266',\n",
       "   '855',\n",
       "   '9266',\n",
       "   '855',\n",
       "   '9266']},\n",
       " {'postid': '306444', 'userid': ['204677']},\n",
       " {'postid': '214535', 'userid': ['94824']},\n",
       " {'postid': '134730',\n",
       "  'userid': ['47583',\n",
       "   '20011',\n",
       "   '20673',\n",
       "   '47583',\n",
       "   '47583',\n",
       "   '47583',\n",
       "   '34148',\n",
       "   '8669',\n",
       "   '34148']},\n",
       " {'postid': '54302', 'userid': ['19134', '226', '2395', '19134', '44188']},\n",
       " {'postid': '214536', 'userid': ['6605']},\n",
       " {'postid': '214531',\n",
       "  'userid': ['100669',\n",
       "   '47845',\n",
       "   '21454',\n",
       "   '100669',\n",
       "   '10502',\n",
       "   '100669',\n",
       "   '53212']},\n",
       " {'postid': '8297', 'userid': ['15']},\n",
       " {'postid': '150169', 'userid': ['52795', '667', '52795']},\n",
       " {'postid': '150168',\n",
       "  'userid': ['1683',\n",
       "   '46461',\n",
       "   '2297',\n",
       "   '46461',\n",
       "   '2297',\n",
       "   '1683',\n",
       "   '51531',\n",
       "   '1683',\n",
       "   '31234',\n",
       "   '5433',\n",
       "   '10445',\n",
       "   '1683',\n",
       "   '12902',\n",
       "   '48260']},\n",
       " {'postid': '150167', 'userid': ['10445', '10094']},\n",
       " {'postid': '65265', 'userid': ['13612']},\n",
       " {'postid': '65266', 'userid': ['22175']},\n",
       " {'postid': '65267', 'userid': ['21607']},\n",
       " {'postid': '150163', 'userid': ['1921', '54895', '62323', '1921', '62323']},\n",
       " {'postid': '65261', 'userid': ['2492', '55255']},\n",
       " {'postid': '65262', 'userid': ['2550', '21573', '2550']},\n",
       " {'postid': '65263', 'userid': ['10126']},\n",
       " {'postid': '92886', 'userid': ['844']},\n",
       " {'postid': '92887', 'userid': ['27261']},\n",
       " {'postid': '92884', 'userid': ['19295', '27338', '19295', '3119', '2281']},\n",
       " {'postid': '179590', 'userid': ['50293', '12402', '50293']},\n",
       " {'postid': '92882', 'userid': ['25385']},\n",
       " {'postid': '267503', 'userid': ['161638', '56903', '66037', '161625']},\n",
       " {'postid': '92880', 'userid': ['12436']},\n",
       " {'postid': '92881', 'userid': ['3792']},\n",
       " {'postid': '203531',\n",
       "  'userid': ['95570', '19962', '51295', '95570', '19962', '51295', '51295']},\n",
       " {'postid': '316125', 'userid': ['2107', '224836']},\n",
       " {'postid': '92888', 'userid': ['21271']},\n",
       " {'postid': '310397', 'userid': ['216699', '142254']},\n",
       " {'postid': '316124', 'userid': ['37336']},\n",
       " {'postid': '134736', 'userid': ['31560', '14510', '31560', '14510', '47']},\n",
       " {'postid': '289797', 'userid': ['184788']},\n",
       " {'postid': '289796', 'userid': ['186241']},\n",
       " {'postid': '289795', 'userid': ['23015', '105281', '23015']},\n",
       " {'postid': '179594', 'userid': ['75187']},\n",
       " {'postid': '279507',\n",
       "  'userid': ['23061', '174775', '174775', '23061', '174775', '23061']},\n",
       " {'postid': '237575', 'userid': ['122653', '31260']},\n",
       " {'postid': '264903', 'userid': ['158459', '109112', '158636']},\n",
       " {'postid': '266451', 'userid': ['66554', '78905', '620', '66554']},\n",
       " {'postid': '266450', 'userid': ['160276', '1204']},\n",
       " {'postid': '93139', 'userid': ['1804', '6384', '1996']},\n",
       " {'postid': '93138',\n",
       "  'userid': ['64',\n",
       "   '934',\n",
       "   '14',\n",
       "   '620',\n",
       "   '16747',\n",
       "   '51548',\n",
       "   '21308',\n",
       "   '3762',\n",
       "   '147195']},\n",
       " {'postid': '266455', 'userid': ['160286', '53141']},\n",
       " {'postid': '200254', 'userid': ['87959']},\n",
       " {'postid': '93137', 'userid': ['25476', '212012']},\n",
       " {'postid': '266458', 'userid': ['26494']},\n",
       " {'postid': '93130', 'userid': ['1114']},\n",
       " {'postid': '93133', 'userid': ['9015']},\n",
       " {'postid': '93132', 'userid': ['3124']},\n",
       " {'postid': '179598', 'userid': ['71708', '75187']},\n",
       " {'postid': '75289',\n",
       "  'userid': ['667', '3792', '667', '935', '667', '29020', '667']},\n",
       " {'postid': '75288', 'userid': ['19153', '17968', '19153', '17968']},\n",
       " {'postid': '75287', 'userid': ['3792']},\n",
       " {'postid': '75286', 'userid': ['12230']},\n",
       " {'postid': '75284', 'userid': ['13181']},\n",
       " {'postid': '75282', 'userid': ['11246']},\n",
       " {'postid': '264906', 'userid': ['122949']},\n",
       " {'postid': '315708', 'userid': ['40065']},\n",
       " {'postid': '69644', 'userid': ['23067', '11905', '285']},\n",
       " {'postid': '222558',\n",
       "  'userid': ['60357', '3249', '60357', '3249', '58581', '3249']},\n",
       " {'postid': '222559', 'userid': ['13382']},\n",
       " {'postid': '222556', 'userid': ['56655', '3249', '46878']},\n",
       " {'postid': '222557', 'userid': ['57792', '161068']},\n",
       " {'postid': '222554', 'userid': ['98712']},\n",
       " {'postid': '157718', 'userid': ['3650', '39226']},\n",
       " {'postid': '123270', 'userid': ['22069', '6586', '7785']},\n",
       " {'postid': '237649', 'userid': ['72188', '48260', '72188', '72188', '48260']},\n",
       " {'postid': '206358',\n",
       "  'userid': ['20065',\n",
       "   '1204',\n",
       "   '97122',\n",
       "   '20065',\n",
       "   '8598',\n",
       "   '20065',\n",
       "   '8598',\n",
       "   '20065']},\n",
       " {'postid': '290439', 'userid': ['173775', '8669', '173775', '36834']},\n",
       " {'postid': '329021',\n",
       "  'userid': ['200736',\n",
       "   '230190',\n",
       "   '200736',\n",
       "   '230190',\n",
       "   '209331',\n",
       "   '230190',\n",
       "   '209331']},\n",
       " {'postid': '206359',\n",
       "  'userid': ['97122', '1204', '97122', '97122', '97122', '1204']},\n",
       " {'postid': '194244',\n",
       "  'userid': ['67481',\n",
       "   '13866',\n",
       "   '2234',\n",
       "   '10563',\n",
       "   '2234',\n",
       "   '58748',\n",
       "   '67481',\n",
       "   '58748',\n",
       "   '40065',\n",
       "   '103879']},\n",
       " {'postid': '105639', 'userid': ['20011']},\n",
       " {'postid': '250387', 'userid': ['90149']},\n",
       " {'postid': '250384',\n",
       "  'userid': ['59057', '116461', '59057', '103810', '130479']},\n",
       " {'postid': '250385', 'userid': ['119554', '3852']},\n",
       " {'postid': '250382', 'userid': ['143213', '143904']},\n",
       " {'postid': '250383', 'userid': ['80171']},\n",
       " {'postid': '141848', 'userid': ['14510', '50694', '24482']},\n",
       " {'postid': '141849', 'userid': ['11782']},\n",
       " {'postid': '105631', 'userid': ['26570', '13724']},\n",
       " {'postid': '105630', 'userid': ['13724']},\n",
       " {'postid': '105633', 'userid': ['4']},\n",
       " {'postid': '105632', 'userid': ['4']},\n",
       " {'postid': '105635', 'userid': ['20011']},\n",
       " {'postid': '105634', 'userid': ['32803', '4771', '13724', '32803']},\n",
       " {'postid': '105637', 'userid': ['35879']},\n",
       " {'postid': '141841', 'userid': ['10563']},\n",
       " {'postid': '102942', 'userid': ['30396']},\n",
       " {'postid': '102943', 'userid': ['18930']},\n",
       " {'postid': '260884', 'userid': ['94086', '5099', '94086']},\n",
       " {'postid': '102946',\n",
       "  'userid': ['18930',\n",
       "   '24482',\n",
       "   '18930',\n",
       "   '24482',\n",
       "   '18930',\n",
       "   '24482',\n",
       "   '18930',\n",
       "   '18930']},\n",
       " {'postid': '226324', 'userid': ['116950', '38200']},\n",
       " {'postid': '260880', 'userid': ['152862', '152861', '152861']},\n",
       " {'postid': '290431', 'userid': ['188134']},\n",
       " {'postid': '309423', 'userid': ['213754']},\n",
       " {'postid': '102948', 'userid': ['34148', '160719', '34148']},\n",
       " {'postid': '102949', 'userid': ['2983']},\n",
       " {'postid': '309426', 'userid': ['97214']},\n",
       " {'postid': '309427', 'userid': ['214338']},\n",
       " {'postid': '260889', 'userid': ['153339']},\n",
       " {'postid': '214331', 'userid': ['3852', '9673', '24028', '3852']},\n",
       " {'postid': '146319',\n",
       "  'userid': ['52871', '31673', '4767', '31673', '1256', '22493', '99957']},\n",
       " {'postid': '21046', 'userid': ['1352']},\n",
       " {'postid': '329023', 'userid': ['98400']},\n",
       " {'postid': '238235', 'userid': ['57138']},\n",
       " {'postid': '146312',\n",
       "  'userid': ['41596',\n",
       "   '51654',\n",
       "   '41596',\n",
       "   '41596',\n",
       "   '213',\n",
       "   '213',\n",
       "   '41596',\n",
       "   '41596',\n",
       "   '213',\n",
       "   '41596',\n",
       "   '51654',\n",
       "   '13181',\n",
       "   '13181',\n",
       "   '41596',\n",
       "   '51654',\n",
       "   '41596',\n",
       "   '41596',\n",
       "   '51654',\n",
       "   '41596']},\n",
       " {'postid': '146310', 'userid': ['23533']},\n",
       " {'postid': '146317', 'userid': ['52873', '25476', '52873']},\n",
       " {'postid': '146316', 'userid': ['17309', '52869', '17309', '52869']},\n",
       " {'postid': '146315', 'userid': ['52869', '5594', '52869']},\n",
       " {'postid': '325779', 'userid': ['37450']},\n",
       " {'postid': '252603', 'userid': ['145273']},\n",
       " {'postid': '233223', 'userid': ['97968']},\n",
       " {'postid': '321644', 'userid': ['22685']},\n",
       " {'postid': '250707',\n",
       "  'userid': ['23355',\n",
       "   '25768',\n",
       "   '855',\n",
       "   '17799',\n",
       "   '3733',\n",
       "   '46212',\n",
       "   '55565',\n",
       "   '103863',\n",
       "   '48651',\n",
       "   '75014']},\n",
       " {'postid': '187255', 'userid': ['6390']},\n",
       " {'postid': '219424', 'userid': ['42031']},\n",
       " {'postid': '238233', 'userid': ['75063']},\n",
       " {'postid': '247234', 'userid': ['61422', '20011']},\n",
       " {'postid': '309001', 'userid': ['129959']},\n",
       " {'postid': '191146', 'userid': ['36173', '82764', '82764']},\n",
       " {'postid': '206222', 'userid': ['3635']},\n",
       " {'postid': '321647', 'userid': ['66588']},\n",
       " {'postid': '191142', 'userid': ['14510', '82366']},\n",
       " {'postid': '191143', 'userid': ['82764', '84809', '82764']},\n",
       " {'postid': '191140', 'userid': ['84814']},\n",
       " {'postid': '191141',\n",
       "  'userid': ['82366',\n",
       "   '5099',\n",
       "   '46605',\n",
       "   '52447',\n",
       "   '82366',\n",
       "   '82366',\n",
       "   '82366',\n",
       "   '46605',\n",
       "   '82366',\n",
       "   '5099',\n",
       "   '82366',\n",
       "   '5099',\n",
       "   '14510']},\n",
       " {'postid': '288439', 'userid': ['119333']},\n",
       " {'postid': '322909',\n",
       "  'userid': ['21669',\n",
       "   '31260',\n",
       "   '31260',\n",
       "   '177980',\n",
       "   '1033',\n",
       "   '189369',\n",
       "   '1033',\n",
       "   '189369',\n",
       "   '1033',\n",
       "   '1204',\n",
       "   '205439',\n",
       "   '21669',\n",
       "   '205439',\n",
       "   '153871',\n",
       "   '210442',\n",
       "   '10190']},\n",
       " {'postid': '219151', 'userid': ['906', '109416', '906', '109416', '906']},\n",
       " {'postid': '210324', 'userid': ['38218']},\n",
       " {'postid': '210325', 'userid': ['56763']},\n",
       " {'postid': '297918',\n",
       "  'userid': ['7422', '144419', '168619', '197488', '192238']},\n",
       " {'postid': '210327', 'userid': ['12893', '31260']},\n",
       " {'postid': '210320', 'userid': ['93211']},\n",
       " {'postid': '210321',\n",
       "  'userid': ['99002',\n",
       "   '31260',\n",
       "   '99002',\n",
       "   '101302',\n",
       "   '101302',\n",
       "   '101302',\n",
       "   '38882',\n",
       "   '26719',\n",
       "   '21708',\n",
       "   '101302',\n",
       "   '101302']},\n",
       " {'postid': '210322', 'userid': ['34268']},\n",
       " {'postid': '195510', 'userid': ['6586']},\n",
       " {'postid': '297912', 'userid': ['62706', '30643']},\n",
       " {'postid': '240663', 'userid': ['37892']},\n",
       " {'postid': '297911', 'userid': ['108541']},\n",
       " {'postid': '210328', 'userid': ['36884', '12893']},\n",
       " {'postid': '210329', 'userid': ['90889']},\n",
       " {'postid': '297914', 'userid': ['124651']},\n",
       " {'postid': '297915',\n",
       "  'userid': ['30385', '168619', '12248', '168619', '30385', '168619']},\n",
       " {'postid': '265108', 'userid': ['158888', '897', '31260', '158888', '9113']},\n",
       " {'postid': '194240', 'userid': ['80637', '31260', '2234']},\n",
       " {'postid': '190032', 'userid': ['82764']},\n",
       " {'postid': '265101', 'userid': ['13550']},\n",
       " {'postid': '265102', 'userid': ['158886']},\n",
       " {'postid': '265103', 'userid': ['13972', '7043', '13972']},\n",
       " {'postid': '265104', 'userid': ['50486']},\n",
       " {'postid': '265105', 'userid': ['158887', '25768', '22815']},\n",
       " {'postid': '265106', 'userid': ['4854']},\n",
       " {'postid': '286230', 'userid': ['180954', '80833']},\n",
       " {'postid': '15708', 'userid': ['5512', '2431']},\n",
       " {'postid': '15709', 'userid': ['3473']},\n",
       " {'postid': '102365', 'userid': ['34814']},\n",
       " {'postid': '323991', 'userid': ['66037', '203000', '203000']},\n",
       " {'postid': '195517', 'userid': ['22685']},\n",
       " {'postid': '200478', 'userid': ['1093']},\n",
       " {'postid': '102361', 'userid': ['22262']},\n",
       " {'postid': '15700', 'userid': ['5512', '6505', '4285']},\n",
       " {'postid': '6810', 'userid': ['3455']},\n",
       " {'postid': '15702', 'userid': ['356', '2276', '4285', '356', '3249']},\n",
       " {'postid': '15703',\n",
       "  'userid': ['1865', '5485', '1865', '2616', '50242', '31024']},\n",
       " {'postid': '6815', 'userid': ['3459', '374']},\n",
       " {'postid': '15705', 'userid': ['5512']},\n",
       " {'postid': '102368', 'userid': ['14820']},\n",
       " {'postid': '321649', 'userid': ['4', '5099', '4']},\n",
       " {'postid': '9757', 'userid': ['855']},\n",
       " {'postid': '195519', 'userid': ['88491', '68808']},\n",
       " {'postid': '9753', 'userid': ['4582']},\n",
       " {'postid': '9752', 'userid': ['226']},\n",
       " {'postid': '273733', 'userid': ['168567']},\n",
       " {'postid': '9750',\n",
       "  'userid': ['148', '227', '4217', '3316', '148', '3316', '148']},\n",
       " {'postid': '219153', 'userid': ['13866', '91471', '13866', '91471']},\n",
       " {'postid': '80595', 'userid': ['12952']},\n",
       " {'postid': '9759', 'userid': ['2910']},\n",
       " {'postid': '163894', 'userid': ['50967']},\n",
       " {'postid': '24146',\n",
       "  'userid': ['8810',\n",
       "   '5719',\n",
       "   '2344',\n",
       "   '589',\n",
       "   '4828',\n",
       "   '8810',\n",
       "   '4828',\n",
       "   '2431',\n",
       "   '8810',\n",
       "   '2431',\n",
       "   '7634',\n",
       "   '189369']},\n",
       " {'postid': '24147', 'userid': ['6815', '8802', '6815', '8575']},\n",
       " {'postid': '24144', 'userid': ['8820']},\n",
       " {'postid': '80594',\n",
       "  'userid': ['20036',\n",
       "   '13384',\n",
       "   '12917',\n",
       "   '2344',\n",
       "   '20036',\n",
       "   '2344',\n",
       "   '20036',\n",
       "   '935',\n",
       "   '2344',\n",
       "   '20036',\n",
       "   '20036',\n",
       "   '24028',\n",
       "   '3047',\n",
       "   '12917',\n",
       "   '12917',\n",
       "   '24775',\n",
       "   '2344']},\n",
       " {'postid': '302742', 'userid': ['183902']},\n",
       " {'postid': '207919', 'userid': ['83991']},\n",
       " {'postid': '269735', 'userid': ['51654', '108980', '900', '89401']},\n",
       " {'postid': '269734', 'userid': ['53019']},\n",
       " {'postid': '233033', 'userid': ['124056', '72814', '13866']},\n",
       " {'postid': '233032', 'userid': ['78254', '35897']},\n",
       " {'postid': '187415', 'userid': ['81766']},\n",
       " {'postid': '233037', 'userid': ['104194', '25936']},\n",
       " {'postid': '233036',\n",
       "  'userid': ['115544',\n",
       "   '13866',\n",
       "   '115544',\n",
       "   '115544',\n",
       "   '67077',\n",
       "   '67077',\n",
       "   '115544',\n",
       "   '67077']},\n",
       " {'postid': '24148', 'userid': ['5185']},\n",
       " {'postid': '24149', 'userid': ['4327']},\n",
       " {'postid': '288430',\n",
       "  'userid': ['185635', '6644', '185635', '1204', '185635']},\n",
       " {'postid': '219154', 'userid': ['74488']},\n",
       " {'postid': '198737', 'userid': ['91511', '31260', '897', '91511']},\n",
       " {'postid': '59959',\n",
       "  'userid': ['7369', '4909', '3966', '4909', '855', '80273']},\n",
       " {'postid': '245825', 'userid': ['12403', '1209']},\n",
       " {'postid': '223726', 'userid': ['68823', '8655']},\n",
       " {'postid': '11849', 'userid': ['886', '136']},\n",
       " {'postid': '252602', 'userid': ['15150']},\n",
       " {'postid': '59951', 'userid': ['8187']},\n",
       " {'postid': '59950', 'userid': ['906', '17898', '906', '17898']},\n",
       " {'postid': '11848', 'userid': ['3682', '886', '2344', '886', '3073', '9113']},\n",
       " {'postid': '59955', 'userid': ['7167']},\n",
       " {'postid': '59954', 'userid': ['15466', '7043', '2021', '15466']},\n",
       " {'postid': '59957', 'userid': ['18965', '15466']},\n",
       " {'postid': '59956',\n",
       "  'userid': ['15466', '19554', '15466', '15466', '19554', '15466']},\n",
       " {'postid': '137188', 'userid': ['20336', '13156', '34364']},\n",
       " {'postid': '137189', 'userid': ['48630', '1204', '123788', '48630']},\n",
       " {'postid': '11846', 'userid': ['5332', '2129', '2515', '19', '5332']},\n",
       " {'postid': '298643', 'userid': ['82096']},\n",
       " {'postid': '323057', 'userid': ['123788', '121035', '123788']},\n",
       " {'postid': '298640', 'userid': ['22685', '22685']},\n",
       " {'postid': '137186', 'userid': ['4854', '46648']},\n",
       " {'postid': '137187', 'userid': ['11246']},\n",
       " {'postid': '137184', 'userid': ['12936', '21083']},\n",
       " {'postid': '298644',\n",
       "  'userid': ['9113', '82096', '9113', '82096', '9113', '116950', '9113']},\n",
       " {'postid': '142344', 'userid': ['19628', '34148']},\n",
       " {'postid': '142346', 'userid': ['19628']},\n",
       " {'postid': '285255',\n",
       "  'userid': ['181753',\n",
       "   '110531',\n",
       "   '102787',\n",
       "   '6617',\n",
       "   '110531',\n",
       "   '74841',\n",
       "   '181753',\n",
       "   '181753',\n",
       "   '65338',\n",
       "   '65338',\n",
       "   '11833']},\n",
       " {'postid': '142340', 'userid': ['2550', '8553', '2550', '8553']},\n",
       " {'postid': '136852', 'userid': ['33478']},\n",
       " {'postid': '136851', 'userid': ['22111']},\n",
       " {'postid': '142343', 'userid': ['27178', '50851', '27178', '15252', '27178']},\n",
       " {'postid': '323054',\n",
       "  'userid': ['226181', '31260', '226181', '31260', '226181', '22815']},\n",
       " {'postid': '136859', 'userid': ['38402']},\n",
       " {'postid': '176610', 'userid': ['2366', '24257', '73695']},\n",
       " {'postid': '211057', 'userid': ['6605', '80034', '62519', '80034']},\n",
       " {'postid': '211056',\n",
       "  'userid': ['88986', '1204', '88986', '1204', '88986', '16467', '22815']},\n",
       " {'postid': '68348', 'userid': ['66']},\n",
       " {'postid': '211053', 'userid': ['101692', '92997']},\n",
       " {'postid': '157248', 'userid': ['13550', '15246', '13550']},\n",
       " {'postid': '157247', 'userid': ['52680']},\n",
       " {'postid': '157246',\n",
       "  'userid': ['902', '980', '902', '9059', '52680', '902', '902', '52680']},\n",
       " {'postid': '157245',\n",
       "  'userid': ['59585', '59585', '59585', '59585', '15246', '59585']},\n",
       " {'postid': '157244', 'userid': ['59584', '25491']},\n",
       " {'postid': '157243', 'userid': ['50402']},\n",
       " {'postid': '157242',\n",
       "  'userid': ['57922', '980', '13976', '57922', '935', '7043', '7043']},\n",
       " {'postid': '68342', 'userid': ['7369']},\n",
       " {'postid': '68343', 'userid': ['13480']},\n",
       " {'postid': '26336', 'userid': ['9932', '4853', '1197']},\n",
       " {'postid': '186842', 'userid': ['36039']},\n",
       " {'postid': '263136', 'userid': ['4', '54868', '54868', '4', '54868', '4']},\n",
       " {'postid': '108104', 'userid': ['25242', '23901', '22760']},\n",
       " {'postid': '161004', 'userid': ['9113', '6870']},\n",
       " {'postid': '37387', 'userid': ['8760', '5030']},\n",
       " {'postid': '108101',\n",
       "  'userid': ['53149', '31101', '32641', '22532', '4', '22532', '22532']},\n",
       " {'postid': '108102', 'userid': ['25242', '22760']},\n",
       " {'postid': '108103', 'userid': ['18930']},\n",
       " {'postid': '82738', 'userid': ['5692', '5842', '5842', '5842']},\n",
       " {'postid': '108109', 'userid': ['3650']},\n",
       " {'postid': '170132', 'userid': ['4767', '68815', '57164']},\n",
       " {'postid': '170133', 'userid': ['25476', '68924', '25476']},\n",
       " {'postid': '170131', 'userid': ['68815', '1204']},\n",
       " {'postid': '170136', 'userid': ['62330', '1204', '62330', '62330']},\n",
       " {'postid': '170137', 'userid': ['37711']},\n",
       " {'postid': '189428', 'userid': ['82764']},\n",
       " {'postid': '100017', 'userid': ['13156', '28887', '13156', '13156']},\n",
       " {'postid': '82384', 'userid': ['24983', '33999', '37953']},\n",
       " {'postid': '170138',\n",
       "  'userid': ['33723', '35276', '934', '12936', '16247', '16247']},\n",
       " {'postid': '326434', 'userid': ['66037', '35961']},\n",
       " {'postid': '30334', 'userid': ['3527']},\n",
       " {'postid': '30335', 'userid': ['2429']},\n",
       " {'postid': '30336',\n",
       "  'userid': ['9753',\n",
       "   '1119',\n",
       "   '9753',\n",
       "   '1119',\n",
       "   '9753',\n",
       "   '8120',\n",
       "   '131',\n",
       "   '9753',\n",
       "   '9753']},\n",
       " {'postid': '30337', 'userid': ['29372', '9753']},\n",
       " {'postid': '30330', 'userid': ['11782', '12661']},\n",
       " {'postid': '30331', 'userid': ['1204']},\n",
       " {'postid': '30332', 'userid': ['11506', '16349']},\n",
       " {'postid': '30333', 'userid': ['131', '6322', '900', '24482']},\n",
       " {'postid': '109859', 'userid': ['2406']},\n",
       " {'postid': '153773', 'userid': ['3762']},\n",
       " {'postid': '76165', 'userid': ['16864', '3965', '22235']},\n",
       " {'postid': '169924',\n",
       "  'userid': ['44705',\n",
       "   '68797',\n",
       "   '44705',\n",
       "   '68797',\n",
       "   '68797',\n",
       "   '35276',\n",
       "   '35276',\n",
       "   '68797',\n",
       "   '6384',\n",
       "   '35276',\n",
       "   '16898']},\n",
       " {'postid': '30338', 'userid': ['4966', '3852', '4854']},\n",
       " {'postid': '30339', 'userid': ['10785']},\n",
       " {'postid': '276273',\n",
       "  'userid': ['148645', '1204', '56655', '31260', '148645']},\n",
       " {'postid': '169920',\n",
       "  'userid': ['68797',\n",
       "   '4767',\n",
       "   '12828',\n",
       "   '4767',\n",
       "   '12828',\n",
       "   '4767',\n",
       "   '68797',\n",
       "   '12828',\n",
       "   '4767',\n",
       "   '4767',\n",
       "   '12828',\n",
       "   '6384',\n",
       "   '68797',\n",
       "   '6384',\n",
       "   '24081',\n",
       "   '68797',\n",
       "   '6384',\n",
       "   '4526',\n",
       "   '24081']},\n",
       " {'postid': '278974', 'userid': ['7433']},\n",
       " {'postid': '189429',\n",
       "  'userid': ['2301', '1958', '2301', '1958', '2301', '1958', '2301', '15175']},\n",
       " {'postid': '187886',\n",
       "  'userid': ['72880',\n",
       "   '72880',\n",
       "   '6967',\n",
       "   '72880',\n",
       "   '13181',\n",
       "   '6967',\n",
       "   '72880',\n",
       "   '131866']},\n",
       " {'postid': '7567', 'userid': ['226', '3530', '2344', '24', '3044', '24775']},\n",
       " {'postid': '119865', 'userid': ['24372']},\n",
       " {'postid': '44806', 'userid': ['16147', '3139', '16147', '12611']},\n",
       " {'postid': '119864', 'userid': ['24372']},\n",
       " {'postid': '44801',\n",
       "  'userid': ['16055', '14221', '3289', '2314', '16055', '13053']},\n",
       " {'postid': '3882', 'userid': ['855']},\n",
       " {'postid': '72394', 'userid': ['2359']},\n",
       " {'postid': '72395', 'userid': ['6621']},\n",
       " {'postid': '119866', 'userid': ['40883']},\n",
       " {'postid': '72390', 'userid': ['22493']},\n",
       " {'postid': '7560', 'userid': ['189', '22685']},\n",
       " {'postid': '72393', 'userid': ['14221', '17438', '17438', '14221']},\n",
       " {'postid': '90023', 'userid': ['6102']},\n",
       " {'postid': '52464', 'userid': ['3965', '5678', '3965', '5678']},\n",
       " {'postid': '7561', 'userid': ['226']},\n",
       " {'postid': '72398', 'userid': ['19252']},\n",
       " {'postid': '72399', 'userid': ['2618']},\n",
       " {'postid': '52465', 'userid': ['11259']},\n",
       " {'postid': '115274', 'userid': ['26119']},\n",
       " {'postid': '115275', 'userid': ['16472']},\n",
       " {'postid': '115276', 'userid': ['2301', '39025', '2301', '34409']},\n",
       " {'postid': '115277', 'userid': ['20023']},\n",
       " {'postid': '100018', 'userid': ['31428', '16992', '20756', '1427']},\n",
       " {'postid': '143433', 'userid': ['36884']},\n",
       " {'postid': '115273', 'userid': ['18930']},\n",
       " {'postid': '323952', 'userid': ['40724']},\n",
       " {'postid': '52467', 'userid': ['2314']},\n",
       " {'postid': '143439', 'userid': ['20036', '37727', '13593', '123788']},\n",
       " {'postid': '143438',\n",
       "  'userid': ['51234',\n",
       "   '22532',\n",
       "   '51234',\n",
       "   '43527',\n",
       "   '23653',\n",
       "   '22532',\n",
       "   '13593',\n",
       "   '50485',\n",
       "   '855',\n",
       "   '1256',\n",
       "   '200736']},\n",
       " {'postid': '298625', 'userid': ['9113', '50055', '9113', '9113']},\n",
       " {'postid': '180142', 'userid': ['75574']},\n",
       " {'postid': '180143', 'userid': ['50320']},\n",
       " {'postid': '35218', 'userid': ['12354', '2471']},\n",
       " {'postid': '180145',\n",
       "  'userid': ['75577', '49999', '75577', '62330', '75577', '26034']},\n",
       " {'postid': '180146',\n",
       "  'userid': ['75031', '2234', '8820', '12562', '35276', '71409']},\n",
       " {'postid': '180147', 'userid': ['25768', '11982', '75586', '44104', '44104']},\n",
       " {'postid': '35214', 'userid': ['10922', '5216', '11910', '7427', '53697']},\n",
       " {'postid': '35215', 'userid': ['9771']},\n",
       " {'postid': '35216',\n",
       "  'userid': ['2359',\n",
       "   '10922',\n",
       "   '2359',\n",
       "   '83',\n",
       "   '483',\n",
       "   '7005',\n",
       "   '1916',\n",
       "   '53697',\n",
       "   '7005']},\n",
       " {'postid': '35217', 'userid': ['12497', '2344']},\n",
       " {'postid': '35210',\n",
       "  'userid': ['786',\n",
       "   '2471',\n",
       "   '1204',\n",
       "   '2851',\n",
       "   '5570',\n",
       "   '11259',\n",
       "   '11259',\n",
       "   '2471',\n",
       "   '2851',\n",
       "   '2851',\n",
       "   '2471',\n",
       "   '2851',\n",
       "   '1467',\n",
       "   '15052',\n",
       "   '15081',\n",
       "   '1369',\n",
       "   '7814']},\n",
       " {'postid': '35211',\n",
       "  'userid': ['11259',\n",
       "   '12497',\n",
       "   '983',\n",
       "   '3790',\n",
       "   '11259',\n",
       "   '11259',\n",
       "   '983',\n",
       "   '11259',\n",
       "   '983',\n",
       "   '11259',\n",
       "   '983']},\n",
       " {'postid': '35212', 'userid': ['10442']},\n",
       " {'postid': '35213', 'userid': ['1204']},\n",
       " {'postid': '132665', 'userid': ['24077', '24077']},\n",
       " {'postid': '132666',\n",
       "  'userid': ['1683', '35809', '20579', '44541', '35809', '1683']},\n",
       " {'postid': '23265', 'userid': ['2359', '7634']},\n",
       " {'postid': '132660', 'userid': ['1683', '13162', '34327', '13162']},\n",
       " {'postid': '230176', 'userid': ['60357']},\n",
       " {'postid': '132662', 'userid': ['18930']},\n",
       " {'postid': '132663', 'userid': ['45331', '16247', '13162', '2344']},\n",
       " {'postid': '188777', 'userid': ['900']},\n",
       " {'postid': '188776',\n",
       "  'userid': ['897', '56777', '53019', '56777', '897', '56777']},\n",
       " {'postid': '330125', 'userid': ['244781']},\n",
       " {'postid': '313182', 'userid': ['221059', '9113', '9113']},\n",
       " {'postid': '132668', 'userid': ['35809']},\n",
       " {'postid': '132669', 'userid': ['41381']},\n",
       " {'postid': '188771', 'userid': ['56777', '86679']},\n",
       " {'postid': '23269', 'userid': ['572', '2344']},\n",
       " {'postid': '109275', 'userid': ['12557']},\n",
       " {'postid': '109274', 'userid': ['6586']},\n",
       " {'postid': '109277', 'userid': ['7226', '35106', '7226', '7226']},\n",
       " {'postid': '109276',\n",
       "  'userid': ['36173', '855', '6718', '14245', '2439', '5512']},\n",
       " {'postid': '109271', 'userid': ['8029']},\n",
       " {'postid': '181818', 'userid': ['3965', '62323']},\n",
       " {'postid': '109272', 'userid': ['36589']},\n",
       " {'postid': '181815',\n",
       "  'userid': ['62323',\n",
       "   '49808',\n",
       "   '21030',\n",
       "   '62323',\n",
       "   '49808',\n",
       "   '21030',\n",
       "   '49808',\n",
       "   '58581',\n",
       "   '58581']},\n",
       " {'postid': '181814', 'userid': ['60569']},\n",
       " {'postid': '181817',\n",
       "  'userid': ['62323',\n",
       "   '4444',\n",
       "   '62323',\n",
       "   '62330',\n",
       "   '39252',\n",
       "   '24028',\n",
       "   '1554',\n",
       "   '27161',\n",
       "   '76704',\n",
       "   '27161',\n",
       "   '57792']},\n",
       " {'postid': '181816',\n",
       "  'userid': ['7733', '934', '1204', '25476', '1204', '7733']},\n",
       " {'postid': '109279',\n",
       "  'userid': ['5183',\n",
       "   '8029',\n",
       "   '19384',\n",
       "   '9260',\n",
       "   '8709',\n",
       "   '8709',\n",
       "   '1411',\n",
       "   '1013',\n",
       "   '5512',\n",
       "   '1411',\n",
       "   '9673']},\n",
       " {'postid': '109278', 'userid': ['17887']},\n",
       " {'postid': '181813', 'userid': ['1204']},\n",
       " {'postid': '181812', 'userid': ['73337']},\n",
       " {'postid': '177483', 'userid': ['58262', '73726', '58262', '73726']},\n",
       " {'postid': '206813', 'userid': ['172']},\n",
       " {'postid': '110168', 'userid': ['6294', '30278', '4354', '5084', '4354']},\n",
       " {'postid': '177486', 'userid': ['29076']},\n",
       " {'postid': '177485', 'userid': ['11982', '49321']},\n",
       " {'postid': '95796',\n",
       "  'userid': ['21497',\n",
       "   '13156',\n",
       "   '2429',\n",
       "   '226',\n",
       "   '13156',\n",
       "   '21497',\n",
       "   '1554',\n",
       "   '902',\n",
       "   '16929',\n",
       "   '287',\n",
       "   '12609',\n",
       "   '22098',\n",
       "   '98213']},\n",
       " {'postid': '177488', 'userid': ['7264', '15246', '73447', '7264', '73447']},\n",
       " {'postid': '218092', 'userid': ['108401', '1554']},\n",
       " {'postid': '218093', 'userid': ['84271']},\n",
       " {'postid': '218090', 'userid': ['97563']},\n",
       " {'postid': '235964', 'userid': ['2314', '83499', '80376']},\n",
       " {'postid': '218096',\n",
       "  'userid': ['62387', '5099', '12878', '62387', '98794', '13225']},\n",
       " {'postid': '218097', 'userid': ['73328']},\n",
       " {'postid': '306719', 'userid': ['161917', '60357']},\n",
       " {'postid': '43853', 'userid': ['11859']},\n",
       " {'postid': '43852', 'userid': ['13148', '11043']},\n",
       " {'postid': '43851', 'userid': ['6644']},\n",
       " {'postid': '202440', 'userid': ['10037', '9673']},\n",
       " {'postid': '212369',\n",
       "  'userid': ['36834', '34336', '36834', '25768', '67057', '4127']},\n",
       " {'postid': '43854', 'userid': ['6294']},\n",
       " {'postid': '206020', 'userid': ['97670', '67140', '67140']},\n",
       " {'postid': '128859',\n",
       "  'userid': ['43823',\n",
       "   '40190',\n",
       "   '43823',\n",
       "   '5834',\n",
       "   '41811',\n",
       "   '43823',\n",
       "   '41811',\n",
       "   '41811',\n",
       "   '43823',\n",
       "   '41811',\n",
       "   '43823',\n",
       "   '43823',\n",
       "   '5834']},\n",
       " {'postid': '128854', 'userid': ['31502', '855', '31502', '26304']},\n",
       " {'postid': '128855', 'userid': ['855', '9865']},\n",
       " {'postid': '128856', 'userid': ['44933']},\n",
       " {'postid': '128857', 'userid': ['23304', '44933']},\n",
       " {'postid': '128850', 'userid': ['25476']},\n",
       " {'postid': '128851',\n",
       "  'userid': ['44591',\n",
       "   '37580',\n",
       "   '44591',\n",
       "   '6735',\n",
       "   '31024',\n",
       "   '10563',\n",
       "   '8553',\n",
       "   '2142',\n",
       "   '95101']},\n",
       " {'postid': '128853', 'userid': ['32353']},\n",
       " {'postid': '115286', 'userid': ['33062']},\n",
       " {'postid': '237620', 'userid': ['128781', '1204', '128781', '1204', '17898']},\n",
       " {'postid': '186156', 'userid': ['30678', '79494', '1487']},\n",
       " {'postid': '136668', 'userid': ['46338']},\n",
       " {'postid': '212616', 'userid': ['44699']},\n",
       " {'postid': '107286', 'userid': ['14579']},\n",
       " {'postid': '73446', 'userid': ['5692', '3966']},\n",
       " {'postid': '107284', 'userid': ['8031', '36375', '8031', '36375']},\n",
       " {'postid': '73444', 'userid': ['12624', '12624']},\n",
       " {'postid': '107282',\n",
       "  'userid': ['14579', '7043', '35639', '14579', '11905', '11905', '16349']},\n",
       " {'postid': '110165', 'userid': ['36926']},\n",
       " {'postid': '107280', 'userid': ['29333']},\n",
       " {'postid': '107281', 'userid': ['36394', '738']},\n",
       " {'postid': '176066', 'userid': ['11982']},\n",
       " {'postid': '126738', 'userid': ['11575', '34069', '11575']},\n",
       " {'postid': '107288', 'userid': ['14872', '29925']},\n",
       " {'postid': '49568', 'userid': ['1696', '1642', '6279']},\n",
       " {'postid': '296766', 'userid': ['115557']},\n",
       " {'postid': '325323', 'userid': ['203422', '193669']},\n",
       " {'postid': '325322', 'userid': ['115790']},\n",
       " {'postid': '325321', 'userid': ['233528', '20756', '66037']},\n",
       " {'postid': '325320', 'userid': ['22685', '109112']},\n",
       " {'postid': '325327', 'userid': ['209331']},\n",
       " {'postid': '286808', 'userid': ['171111']},\n",
       " {'postid': '325325', 'userid': ['897']},\n",
       " {'postid': '325324', 'userid': ['61852', '193669', '61852', '193669']},\n",
       " {'postid': '205397', 'userid': ['81689']},\n",
       " {'postid': '205396', 'userid': ['97155', '56655', '31260']},\n",
       " {'postid': '205394',\n",
       "  'userid': ['97151', '53019', '1324', '51367', '38610', '90963']},\n",
       " {'postid': '205393', 'userid': ['6586', '97138', '4', '37072', '6586']},\n",
       " {'postid': '205391', 'userid': ['92059', '11828']},\n",
       " {'postid': '205390', 'userid': ['92918', '91969']},\n",
       " {'postid': '225229', 'userid': ['53019', '63589', '8434']},\n",
       " {'postid': '176068', 'userid': ['39847']},\n",
       " {'postid': '205399', 'userid': ['17261', '92059', '17261', '92059', '17261']},\n",
       " {'postid': '205398', 'userid': ['56655', '32242', '32242']},\n",
       " {'postid': '131315', 'userid': ['17416']},\n",
       " {'postid': '231049', 'userid': ['13519', '25811']},\n",
       " {'postid': '131317', 'userid': ['40010']},\n",
       " {'postid': '131316', 'userid': ['44872']},\n",
       " {'postid': '131311', 'userid': ['34364']},\n",
       " {'postid': '231040',\n",
       "  'userid': ['103061', '116712', '5099', '116712', '103061']},\n",
       " {'postid': '313871', 'userid': ['161917', '36571']},\n",
       " {'postid': '231042', 'userid': ['121368']},\n",
       " {'postid': '231043',\n",
       "  'userid': ['7422', '121368', '121368', '60357', '121368']},\n",
       " {'postid': '131319', 'userid': ['44541', '45807', '41']},\n",
       " {'postid': '131318', 'userid': ['841', '26852', '841', '58581', '58581']},\n",
       " {'postid': '316997', 'userid': ['21286', '21286']},\n",
       " {'postid': '253418', 'userid': ['36589']},\n",
       " {'postid': '117192',\n",
       "  'userid': ['39751', '25476', '15246', '39751', '40141', '39751']},\n",
       " {'postid': '186153', 'userid': ['48260', '27726', '32728']},\n",
       " {'postid': '121540', 'userid': ['11636', '1327', '11636', '1327', '11636']},\n",
       " {'postid': '19321', 'userid': ['4365', '7499', '4365', '7499', '4365']},\n",
       " {'postid': '121545', 'userid': ['25446']},\n",
       " {'postid': '121547', 'userid': ['32803']},\n",
       " {'postid': '121546',\n",
       "  'userid': ['5209',\n",
       "   '7043',\n",
       "   '5209',\n",
       "   '4595',\n",
       "   '5209',\n",
       "   '12878',\n",
       "   '5209',\n",
       "   '115557']},\n",
       " {'postid': '121549', 'userid': ['41418', '5209']},\n",
       " {'postid': '117197', 'userid': ['36473', '25476', '39751', '36473']},\n",
       " {'postid': '286807', 'userid': ['33157']},\n",
       " {'postid': '219320', 'userid': ['100230']},\n",
       " {'postid': '19324', 'userid': ['7034', '154', '7499']},\n",
       " {'postid': '219325', 'userid': ['31267', '12715', '27881', '77020']},\n",
       " {'postid': '315262', 'userid': ['223916', '1204', '172693']},\n",
       " {'postid': '313779',\n",
       "  'userid': ['121802',\n",
       "   '219569',\n",
       "   '121802',\n",
       "   '219569',\n",
       "   '121802',\n",
       "   '78905',\n",
       "   '121802',\n",
       "   '213']},\n",
       " {'postid': '313778', 'userid': ['209665']},\n",
       " {'postid': '278649', 'userid': ['168567', '30385', '168567']},\n",
       " {'postid': '313770', 'userid': ['221826']},\n",
       " {'postid': '313772', 'userid': ['221826']},\n",
       " {'postid': '313775', 'userid': ['177980', '18266', '177980', '177980']},\n",
       " {'postid': '313774', 'userid': ['130333', '145175']},\n",
       " {'postid': '313777', 'userid': ['51654', '145175', '935']},\n",
       " {'postid': '313776', 'userid': ['221831', '620']},\n",
       " {'postid': '203949', 'userid': ['95244', '980']},\n",
       " {'postid': '137875', 'userid': ['25885', '31673', '39294']},\n",
       " {'postid': '203940', 'userid': ['95895', '1324']},\n",
       " {'postid': '232880', 'userid': ['12902']},\n",
       " {'postid': '203942',\n",
       "  'userid': ['50808', '16764', '25768', '50808', '25768', '13258', '50808']},\n",
       " {'postid': '203943', 'userid': ['60084']},\n",
       " {'postid': '203945', 'userid': ['23724']},\n",
       " {'postid': '203946', 'userid': ['855']},\n",
       " {'postid': '203947', 'userid': ['10618', '95882']},\n",
       " {'postid': '125398', 'userid': ['13225']},\n",
       " {'postid': '125399', 'userid': ['43116']},\n",
       " {'postid': '215025', 'userid': ['105207']},\n",
       " {'postid': '135947', 'userid': ['175']},\n",
       " {'postid': '135941', 'userid': ['35490']},\n",
       " {'postid': '135942',\n",
       "  'userid': ['39294',\n",
       "   '25476',\n",
       "   '25936',\n",
       "   '39294',\n",
       "   '25936',\n",
       "   '16247',\n",
       "   '902',\n",
       "   '20294',\n",
       "   '16247']},\n",
       " {'postid': '135943', 'userid': ['36173']},\n",
       " {'postid': '85671', 'userid': ['1921', '2649']},\n",
       " {'postid': '85670', 'userid': ['9485', '5039']},\n",
       " {'postid': '85673', 'userid': ['28463']},\n",
       " {'postid': '85672',\n",
       "  'userid': ['17426', '5039', '17426', '5039', '3011', '17426']},\n",
       " {'postid': '85675', 'userid': ['17315']},\n",
       " {'postid': '135949', 'userid': ['15150', '23734', '15150']},\n",
       " {'postid': '125396',\n",
       "  'userid': ['4767',\n",
       "   '38547',\n",
       "   '36173',\n",
       "   '4767',\n",
       "   '43123',\n",
       "   '4767',\n",
       "   '43123',\n",
       "   '31024',\n",
       "   '14237',\n",
       "   '36173']},\n",
       " {'postid': '85676',\n",
       "  'userid': ['22451', '22493', '2366', '22451', '28455', '2344']},\n",
       " {'postid': '170914',\n",
       "  'userid': ['66382', '28421', '1204', '66382', '50453', '66382', '16992']},\n",
       " {'postid': '322679', 'userid': ['168369']},\n",
       " {'postid': '170910', 'userid': ['41786']},\n",
       " {'postid': '5059', 'userid': ['6', '58922', '6', '30']},\n",
       " {'postid': '170912',\n",
       "  'userid': ['50453',\n",
       "   '66382',\n",
       "   '50453',\n",
       "   '7866',\n",
       "   '38640',\n",
       "   '13156',\n",
       "   '1204',\n",
       "   '50453',\n",
       "   '1204',\n",
       "   '50453']},\n",
       " {'postid': '5054',\n",
       "  'userid': ['2534', '4752', '5505', '7990', '2344', '22493']},\n",
       " {'postid': '303937', 'userid': ['9113']},\n",
       " {'postid': '305294',\n",
       "  'userid': ['28969', '44761', '123788', '207878', '17853']},\n",
       " {'postid': '322673', 'userid': ['172693']},\n",
       " {'postid': '170918', 'userid': ['69635', '50453', '69635']},\n",
       " {'postid': '170919', 'userid': ['40300', '1204', '40300', '1204', '40300']},\n",
       " {'postid': '322676', 'userid': ['142319']},\n",
       " {'postid': '317042',\n",
       "  'userid': ['161367', '56691', '161367', '222996', '161367']},\n",
       " {'postid': '204444', 'userid': ['2021']},\n",
       " {'postid': '38568', 'userid': ['9202']},\n",
       " {'postid': '134092', 'userid': ['47179']},\n",
       " {'postid': '134095', 'userid': ['26501', '25936', '34351']},\n",
       " {'postid': '129796',\n",
       "  'userid': ['45940', '26444', '25476', '5834', '4', '20021']},\n",
       " {'postid': '134097',\n",
       "  'userid': ['46003',\n",
       "   '257',\n",
       "   '18454',\n",
       "   '46003',\n",
       "   '1678',\n",
       "   '35276',\n",
       "   '115557',\n",
       "   '105684',\n",
       "   '192238',\n",
       "   '105684',\n",
       "   '192238',\n",
       "   '105684',\n",
       "   '192238']},\n",
       " {'postid': '134096', 'userid': ['25936', '6644', '25936']},\n",
       " {'postid': '134099', 'userid': ['17275']},\n",
       " {'postid': '249521', 'userid': ['4572']},\n",
       " {'postid': '249522', 'userid': ['53697', '1204', '53697', '1204', '53697']},\n",
       " {'postid': '38562', 'userid': ['6433', '5179']},\n",
       " {'postid': '204448',\n",
       "  'userid': ['53141',\n",
       "   '1204',\n",
       "   '23279',\n",
       "   '6390',\n",
       "   '54247',\n",
       "   '53141',\n",
       "   '54247',\n",
       "   '53141']},\n",
       " {'postid': '38564', 'userid': ['2509']},\n",
       " {'postid': '38567',\n",
       "  'userid': ['2314',\n",
       "   '532',\n",
       "   '2654',\n",
       "   '13850',\n",
       "   '2314',\n",
       "   '2314',\n",
       "   '12691',\n",
       "   '2314',\n",
       "   '12691',\n",
       "   '1362',\n",
       "   '2314',\n",
       "   '1362',\n",
       "   '7865',\n",
       "   '27881']},\n",
       " {'postid': '38566', 'userid': ['9202', '3288', '2243', '3248']},\n",
       " {'postid': '129798', 'userid': ['4']},\n",
       " {'postid': '250998', 'userid': ['7422', '57387']},\n",
       " {'postid': '261663',\n",
       "  'userid': ['41759',\n",
       "   '53019',\n",
       "   '41759',\n",
       "   '41759',\n",
       "   '41759',\n",
       "   '68823',\n",
       "   '11732',\n",
       "   '222996']},\n",
       " {'postid': '184084', 'userid': ['78838']},\n",
       " {'postid': '154277', 'userid': ['53630']},\n",
       " {'postid': '320292',\n",
       "  'userid': ['231080',\n",
       "   '74584',\n",
       "   '66037',\n",
       "   '115557',\n",
       "   '115557',\n",
       "   '3184',\n",
       "   '63202',\n",
       "   '8669']},\n",
       " {'postid': '261662', 'userid': ['58581']},\n",
       " {'postid': '320294', 'userid': ['74584']},\n",
       " {'postid': '70133', 'userid': ['348']},\n",
       " {'postid': '320296', 'userid': ['208157', '1204', '66037', '16247', '29020']},\n",
       " {'postid': '154276', 'userid': ['53019']},\n",
       " {'postid': '329374', 'userid': ['122484']},\n",
       " {'postid': '13896', 'userid': ['1468', '886']},\n",
       " {'postid': '315709', 'userid': ['22685']},\n",
       " {'postid': '236907', 'userid': ['6605']},\n",
       " {'postid': '329370', 'userid': ['66497', '31260', '66497']},\n",
       " {'postid': '329371', 'userid': ['6605']},\n",
       " {'postid': '18895',\n",
       "  'userid': ['4458', '1539', '1362', '1539', '464', '5095', '1362', '464']},\n",
       " {'postid': '329373', 'userid': ['172432']},\n",
       " {'postid': '252003', 'userid': ['144896', '144896', '46112']},\n",
       " {'postid': '18899', 'userid': ['7083']},\n",
       " {'postid': '154274', 'userid': ['12626']},\n",
       " {'postid': '329379', 'userid': ['211229']},\n",
       " {'postid': '252002',\n",
       "  'userid': ['121368',\n",
       "   '144906',\n",
       "   '121368',\n",
       "   '51948',\n",
       "   '144906',\n",
       "   '121368',\n",
       "   '134583',\n",
       "   '121368',\n",
       "   '134583',\n",
       "   '121368',\n",
       "   '134583',\n",
       "   '121368']},\n",
       " {'postid': '69178', 'userid': ['2169', '20255', '3963', '177832', '114639']},\n",
       " {'postid': '310409', 'userid': ['216699', '174505', '20756']},\n",
       " {'postid': '284617', 'userid': ['180992', '107127', '180992', '107127']},\n",
       " {'postid': '227763', 'userid': ['118638']},\n",
       " {'postid': '122019', 'userid': ['4767']},\n",
       " {'postid': '94980', 'userid': ['25600']},\n",
       " {'postid': '69839', 'userid': ['11859', '6415', '96074']},\n",
       " {'postid': '122014',\n",
       "  'userid': ['5402', '25936', '7422', '5834', '1093', '35718']},\n",
       " {'postid': '252000', 'userid': ['28035']},\n",
       " {'postid': '122013', 'userid': ['33403']},\n",
       " {'postid': '173093',\n",
       "  'userid': ['6605',\n",
       "   '38200',\n",
       "   '6605',\n",
       "   '61852',\n",
       "   '6605',\n",
       "   '27881',\n",
       "   '38200',\n",
       "   '10869',\n",
       "   '24392',\n",
       "   '7935',\n",
       "   '16929',\n",
       "   '3963']},\n",
       " {'postid': '87298',\n",
       "  'userid': ['16292',\n",
       "   '11457',\n",
       "   '6415',\n",
       "   '7519',\n",
       "   '844',\n",
       "   '7519',\n",
       "   '886',\n",
       "   '7519',\n",
       "   '6420',\n",
       "   '27085',\n",
       "   '16292',\n",
       "   '16292',\n",
       "   '58581',\n",
       "   '58581']},\n",
       " {'postid': '175249', 'userid': ['72220']},\n",
       " {'postid': '175248', 'userid': ['61659']},\n",
       " {'postid': '237055', 'userid': ['90149', '34069']},\n",
       " {'postid': '13890',\n",
       "  'userid': ['1306',\n",
       "   '5828',\n",
       "   '1306',\n",
       "   '1306',\n",
       "   '5828',\n",
       "   '1384',\n",
       "   '5828',\n",
       "   '1306',\n",
       "   '1306',\n",
       "   '5828',\n",
       "   '89',\n",
       "   '1306',\n",
       "   '89',\n",
       "   '4817',\n",
       "   '1306']},\n",
       " {'postid': '293364', 'userid': ['128107']},\n",
       " {'postid': '87291', 'userid': ['1033']},\n",
       " {'postid': '87290',\n",
       "  'userid': ['5095',\n",
       "   '29021',\n",
       "   '5095',\n",
       "   '29021',\n",
       "   '5095',\n",
       "   '29021',\n",
       "   '5095',\n",
       "   '5877',\n",
       "   '29021',\n",
       "   '29021',\n",
       "   '29021']},\n",
       " {'postid': '215975', 'userid': ['41895']},\n",
       " {'postid': '87294',\n",
       "  'userid': ['22193',\n",
       "   '20682',\n",
       "   '22193',\n",
       "   '22193',\n",
       "   '13225',\n",
       "   '22193',\n",
       "   '20682',\n",
       "   '29082',\n",
       "   '24088',\n",
       "   '11910',\n",
       "   '1725']},\n",
       " {'postid': '87296', 'userid': ['886', '22193', '886', '6415']},\n",
       " {'postid': '153904',\n",
       "  'userid': ['773',\n",
       "   '52949',\n",
       "   '14221',\n",
       "   '52949',\n",
       "   '773',\n",
       "   '16929',\n",
       "   '14294',\n",
       "   '13593',\n",
       "   '21030']},\n",
       " {'postid': '123949', 'userid': ['12063']},\n",
       " {'postid': '184086', 'userid': ['18930', '38200', '38200', '18930']},\n",
       " {'postid': '36178',\n",
       "  'userid': ['9029',\n",
       "   '9208',\n",
       "   '8120',\n",
       "   '9208',\n",
       "   '9029',\n",
       "   '9208',\n",
       "   '9208',\n",
       "   '11785',\n",
       "   '29020']},\n",
       " {'postid': '36179', 'userid': ['4961']},\n",
       " {'postid': '153905', 'userid': ['25199']},\n",
       " {'postid': '36174', 'userid': ['2359', '13053']},\n",
       " {'postid': '36175', 'userid': ['9208', '4881']},\n",
       " {'postid': '36176', 'userid': ['4881']},\n",
       " {'postid': '123940', 'userid': ['36612', '4942']},\n",
       " {'postid': '36170', 'userid': ['4182']},\n",
       " {'postid': '153906', 'userid': ['14221']},\n",
       " {'postid': '123944', 'userid': ['31260']},\n",
       " {'postid': '300872', 'userid': ['56655']},\n",
       " {'postid': '168083', 'userid': ['66783', '36039', '66783', '33478', '65699']},\n",
       " {'postid': '153907', 'userid': ['56466']},\n",
       " {'postid': '300876', 'userid': ['129659']},\n",
       " {'postid': '237427', 'userid': ['127386', '31260', '13550']},\n",
       " {'postid': '153900',\n",
       "  'userid': ['41381',\n",
       "   '29020',\n",
       "   '41381',\n",
       "   '29020',\n",
       "   '41381',\n",
       "   '29020',\n",
       "   '22685',\n",
       "   '29020']},\n",
       " {'postid': '198602', 'userid': ['85146']},\n",
       " ...]"
      ]
     },
     "execution_count": 20,
     "metadata": {},
     "output_type": "execute_result"
    }
   ],
   "source": [
    "#for each unique post id, create a dictionary with postid as key \n",
    "#with key: value as userids that posted or commented on that post\n",
    "#http://stackoverflow.com/questions/8550912/python-dictionary-of-dictionaries\n",
    "#http://stackoverflow.com/questions/3749512/python-group-by\n",
    "\n",
    "#postid,userid,score,post_type\n",
    "\n",
    "#get just the postid and userid\n",
    "post_user = [[x[0],x[1]] for x in combined]\n",
    "#print post_user[0:4]\n",
    "\n",
    "\n",
    "from collections import defaultdict\n",
    "\n",
    "#create default dictionary\n",
    "d_combo = defaultdict(list)\n",
    "for k,v in post_user: \n",
    "    d_combo[k].append(v)\n",
    "    \n",
    "#change format to list of dictionaries with postid as key and list of userid's as value\n",
    "[{'postid':k, 'userid':v} for k,v in d_combo.items()]\n"
   ]
  },
  {
   "cell_type": "code",
   "execution_count": 21,
   "metadata": {
    "collapsed": false
   },
   "outputs": [],
   "source": [
    "#for each subdictionary get all combinations, if there are no comments \n",
    "#don't include anything, if there are 2 or more add all combinations to pairs.\n",
    "\n",
    "#try example\n",
    "#z=[]\n",
    "#for x in itertools.combinations([1,2,3],2):\n",
    "#    z.append(list(x))\n",
    "\n",
    "pairs = []\n",
    "\n",
    "for k,v in d_combo.iteritems():\n",
    "    if v == []:\n",
    "        continue\n",
    "    setv = set(v)\n",
    "    if setv == 1:\n",
    "        continue\n",
    "    for x in itertools.combinations(setv,2):\n",
    "        pairs.append(list(x))\n",
    "    #new = [list(x) for x in itertools.combinations(setv,2)]\n"
   ]
  },
  {
   "cell_type": "code",
   "execution_count": 22,
   "metadata": {
    "collapsed": false
   },
   "outputs": [
    {
     "name": "stdout",
     "output_type": "stream",
     "text": [
      "[['5099', '183975'], ['73447', '118945'], ['73447', '80833'], ['118945', '80833'], ['4623', '287'], ['4623', '10572'], ['287', '10572'], ['20065', '31950'], ['29074', '20579'], ['29074', '8810']]\n"
     ]
    }
   ],
   "source": [
    "#check output\n",
    "print pairs[0:10]"
   ]
  },
  {
   "cell_type": "markdown",
   "metadata": {},
   "source": [
    "#### Create a network from the data  \n",
    "Nodes are users (posters or commenters)  \n",
    "Edges are if a user is connected to another user because they posted or commented on the same post.  "
   ]
  },
  {
   "cell_type": "code",
   "execution_count": 23,
   "metadata": {
    "collapsed": false
   },
   "outputs": [],
   "source": [
    "#Using the pairs of connected nodes build the initial graph\n",
    "\n",
    "g=net.Graph()\n",
    "\n",
    "for row in pairs:\n",
    "    node1 = row[0]\n",
    "    node2 = row[1]\n",
    "    g.add_edge(node1,node2)"
   ]
  },
  {
   "cell_type": "code",
   "execution_count": 24,
   "metadata": {
    "collapsed": true
   },
   "outputs": [],
   "source": [
    "#write the graph to a file so it doesn't have to be re-created every time\n",
    "#net.write_pajek(g, \"pairs.net\")\n",
    "#g=net.read_pajek(\"pairs.net\")"
   ]
  },
  {
   "cell_type": "code",
   "execution_count": 25,
   "metadata": {
    "collapsed": false
   },
   "outputs": [
    {
     "data": {
      "text/plain": [
       "35542"
      ]
     },
     "execution_count": 25,
     "metadata": {},
     "output_type": "execute_result"
    }
   ],
   "source": [
    "#Number of nodes in the network\n",
    "len(g.nodes())"
   ]
  },
  {
   "cell_type": "code",
   "execution_count": 26,
   "metadata": {
    "collapsed": false
   },
   "outputs": [
    {
     "data": {
      "text/plain": [
       "400522"
      ]
     },
     "execution_count": 26,
     "metadata": {},
     "output_type": "execute_result"
    }
   ],
   "source": [
    "#Number of edges in the network\n",
    "len(g.edges())"
   ]
  },
  {
   "cell_type": "code",
   "execution_count": 27,
   "metadata": {
    "collapsed": false
   },
   "outputs": [
    {
     "data": {
      "text/plain": [
       "('5983', '24049')"
      ]
     },
     "execution_count": 27,
     "metadata": {},
     "output_type": "execute_result"
    }
   ],
   "source": [
    "#test an edge\n",
    "g.edges()[100]"
   ]
  },
  {
   "cell_type": "code",
   "execution_count": 28,
   "metadata": {
    "collapsed": false
   },
   "outputs": [],
   "source": [
    "#View the network graph\n",
    "#net.draw(g)"
   ]
  },
  {
   "cell_type": "markdown",
   "metadata": {},
   "source": [
    "Degree Centrality: Degree is the number of connections that a node has. In this network it is the number of connections between users in this subset of stack exchange data"
   ]
  },
  {
   "cell_type": "code",
   "execution_count": 29,
   "metadata": {
    "collapsed": true
   },
   "outputs": [],
   "source": [
    "#compute the degree of every node in the network\n",
    "deg = net.degree(g)"
   ]
  },
  {
   "cell_type": "code",
   "execution_count": 30,
   "metadata": {
    "collapsed": false
   },
   "outputs": [
    {
     "name": "stdout",
     "output_type": "stream",
     "text": [
      "1\n",
      "5671\n"
     ]
    }
   ],
   "source": [
    "#What is the minimum and maximum degree of any node\n",
    "print min(deg.values())\n",
    "print max(deg.values())"
   ]
  },
  {
   "cell_type": "code",
   "execution_count": 31,
   "metadata": {
    "collapsed": true
   },
   "outputs": [],
   "source": [
    "#function to return a sorted degree list \n",
    "def sorted_map(map):\n",
    "    ms = sorted(map.iteritems(), key = lambda(k,v): (-v,k))\n",
    "    return ms"
   ]
  },
  {
   "cell_type": "code",
   "execution_count": 32,
   "metadata": {
    "collapsed": true
   },
   "outputs": [],
   "source": [
    "ds = sorted_map(deg)"
   ]
  },
  {
   "cell_type": "code",
   "execution_count": 33,
   "metadata": {
    "collapsed": false
   },
   "outputs": [
    {
     "data": {
      "text/plain": [
       "[('1204', 5671),\n",
       " ('31260', 5484),\n",
       " ('9113', 3385),\n",
       " ('855', 3053),\n",
       " ('29020', 2528),\n",
       " ('13156', 2235),\n",
       " ('22685', 2129),\n",
       " ('25936', 2101),\n",
       " ('2344', 2063),\n",
       " ('935', 2063)]"
      ]
     },
     "execution_count": 33,
     "metadata": {},
     "output_type": "execute_result"
    }
   ],
   "source": [
    "#posters with the most connections\n",
    "ds[0:10]"
   ]
  },
  {
   "cell_type": "markdown",
   "metadata": {},
   "source": [
    "### These posters all have very high reputation scores in the User file"
   ]
  },
  {
   "cell_type": "code",
   "execution_count": 96,
   "metadata": {
    "collapsed": false
   },
   "outputs": [
    {
     "data": {
      "image/png": "[encoded data removed]",
      "text/plain": [
       "<matplotlib.figure.Figure at 0x1012c9be0>"
      ]
     },
     "metadata": {},
     "output_type": "display_data"
    }
   ],
   "source": [
    "h=plot.hist(deg.values(),100)\n",
    "#display a histogram of nodes in 100 bins"
   ]
  },
  {
   "cell_type": "markdown",
   "metadata": {},
   "source": [
    "A histogram of the degree of each user shows that a small number of users have a high number of connections (either comment on a lot of posts, and/or comment on (or post) posts that get a lot of comments which connects them to more posters."
   ]
  },
  {
   "cell_type": "code",
   "execution_count": 97,
   "metadata": {
    "collapsed": true
   },
   "outputs": [],
   "source": [
    "#Eigenvector Centrality\n",
    "#have to change graph format to use eigenvector function\n",
    "e = net.Graph(g)"
   ]
  },
  {
   "cell_type": "code",
   "execution_count": 98,
   "metadata": {
    "collapsed": true
   },
   "outputs": [],
   "source": [
    "eig = net.eigenvector_centrality(e)"
   ]
  },
  {
   "cell_type": "code",
   "execution_count": 99,
   "metadata": {
    "collapsed": true
   },
   "outputs": [],
   "source": [
    "eigs = sorted_map(eig)"
   ]
  },
  {
   "cell_type": "code",
   "execution_count": 100,
   "metadata": {
    "collapsed": false
   },
   "outputs": [
    {
     "data": {
      "text/plain": [
       "[('1204', 0.11449655571366553),\n",
       " ('31260', 0.11142915642863989),\n",
       " ('855', 0.09882176593361156),\n",
       " ('29020', 0.09247134355128107),\n",
       " ('9113', 0.08822794645380623),\n",
       " ('13156', 0.0848379142690249),\n",
       " ('935', 0.08444984966990342),\n",
       " ('16929', 0.07971190573929984),\n",
       " ('2344', 0.07970697915459081),\n",
       " ('934', 0.07940013431898067)]"
      ]
     },
     "execution_count": 100,
     "metadata": {},
     "output_type": "execute_result"
    }
   ],
   "source": [
    "eigs[:10]"
   ]
  },
  {
   "cell_type": "markdown",
   "metadata": {},
   "source": [
    "### This list is nearly identical to the degree centrality list. These posters all have very high reputation scores in the User file"
   ]
  },
  {
   "cell_type": "code",
   "execution_count": 101,
   "metadata": {
    "collapsed": false
   },
   "outputs": [
    {
     "data": {
      "image/png": "[encoded data removed]",
      "text/plain": [
       "<matplotlib.figure.Figure at 0x1012c9b70>"
      ]
     },
     "metadata": {},
     "output_type": "display_data"
    }
   ],
   "source": [
    "h=plot.hist(eig.values(),100)"
   ]
  },
  {
   "cell_type": "markdown",
   "metadata": {},
   "source": [
    "### Text Analysis"
   ]
  },
  {
   "cell_type": "code",
   "execution_count": 102,
   "metadata": {
    "collapsed": false
   },
   "outputs": [
    {
     "data": {
      "text/plain": [
       "[2,\n",
       " \"Good naming convention and well structured code will help you decrease the comments need. Don`t forget that each line of comments you add it's a new line to maintain!!\"]"
      ]
     },
     "execution_count": 102,
     "metadata": {},
     "output_type": "execute_result"
    }
   ],
   "source": [
    "score_text[0]"
   ]
  },
  {
   "cell_type": "code",
   "execution_count": 103,
   "metadata": {
    "collapsed": true
   },
   "outputs": [],
   "source": [
    "#split the data into high score and low score to create a binary classification problem\n",
    "#get some stats on the score\n",
    "#the text length will need to be binned as well\n",
    "scores = [x[0] for x in score_text]\n",
    "text_len = [len(x[1]) for x in score_text]"
   ]
  },
  {
   "cell_type": "code",
   "execution_count": 104,
   "metadata": {
    "collapsed": false
   },
   "outputs": [
    {
     "name": "stdout",
     "output_type": "stream",
     "text": [
      "0\n",
      "300\n",
      "1.31102013094\n"
     ]
    }
   ],
   "source": [
    "min_score = min(scores)\n",
    "max_score = max(scores)\n",
    "avg_score = sum(scores)/len(scores)\n",
    "#histogram of scores\n",
    "print min_score\n",
    "print max_score\n",
    "print avg_score"
   ]
  },
  {
   "cell_type": "code",
   "execution_count": 105,
   "metadata": {
    "collapsed": false
   },
   "outputs": [
    {
     "data": {
      "image/png": "[encoded data removed]",
      "text/plain": [
       "<matplotlib.figure.Figure at 0xe13fb160>"
      ]
     },
     "metadata": {},
     "output_type": "display_data"
    }
   ],
   "source": [
    "score_hist=plot.hist(scores,100)"
   ]
  },
  {
   "cell_type": "code",
   "execution_count": 172,
   "metadata": {
    "collapsed": false
   },
   "outputs": [
    {
     "data": {
      "text/plain": [
       "0.05"
      ]
     },
     "execution_count": 172,
     "metadata": {},
     "output_type": "execute_result"
    }
   ],
   "source": [
    "#what percent of scores are higher than 3\n",
    "score_split = 5\n",
    "round(len([x for x in scores if x>score_split])/len(scores),2)"
   ]
  },
  {
   "cell_type": "code",
   "execution_count": 173,
   "metadata": {
    "collapsed": false
   },
   "outputs": [],
   "source": [
    "#If we define high scores as greater than 5 then 5% of scores are high scores\n",
    "#revise the list to have score category (1 for higher, 0 otherwise)\n",
    "scores1 = [[1,x[1]] for x in score_text if x[0] > score_split]\n",
    "scores2 = [[0,x[1]] for x in score_text if x[0] <= score_split]\n",
    "dataset = scores1 + scores2\n"
   ]
  },
  {
   "cell_type": "code",
   "execution_count": 174,
   "metadata": {
    "collapsed": false
   },
   "outputs": [],
   "source": [
    "#print dataset[0:10]\n",
    "#random.shuffle(dataset)\n",
    "#print dataset[0:10]"
   ]
  },
  {
   "cell_type": "code",
   "execution_count": 175,
   "metadata": {
    "collapsed": false
   },
   "outputs": [
    {
     "name": "stdout",
     "output_type": "stream",
     "text": [
      "18419\n",
      "352602\n"
     ]
    }
   ],
   "source": [
    "print len(scores1)\n",
    "print len(scores2)"
   ]
  },
  {
   "cell_type": "code",
   "execution_count": 176,
   "metadata": {
    "collapsed": false
   },
   "outputs": [
    {
     "name": "stdout",
     "output_type": "stream",
     "text": [
      "6\n",
      "600\n",
      "214.805164667\n"
     ]
    }
   ],
   "source": [
    "#The text length (number of words) will need to be binned, check stats on the text length\n",
    "min_len = min(text_len)\n",
    "max_len = max(text_len)\n",
    "avg_len = sum(text_len)/len(text_len)\n",
    "#histogram of scores\n",
    "print min_len\n",
    "print max_len\n",
    "print avg_len\n"
   ]
  },
  {
   "cell_type": "code",
   "execution_count": 177,
   "metadata": {
    "collapsed": false
   },
   "outputs": [
    {
     "data": {
      "image/png": "[encoded data removed]",
      "text/plain": [
       "<matplotlib.figure.Figure at 0xa92e2048>"
      ]
     },
     "metadata": {},
     "output_type": "display_data"
    }
   ],
   "source": [
    "#divide into 10 bins\n",
    "score_hist=plot.hist(text_len,10)"
   ]
  },
  {
   "cell_type": "code",
   "execution_count": 178,
   "metadata": {
    "collapsed": false
   },
   "outputs": [
    {
     "name": "stdout",
     "output_type": "stream",
     "text": [
      "[65, 125, 184, 244, 303, 362, 422, 481, 541, 600]\n"
     ]
    }
   ],
   "source": [
    "#the 10 bins look reasonable, bins of size 60\n",
    "(nS, bins, patches)=score_hist\n",
    "##NEED TO automatically bin the data\n",
    "bins_adj =  list(bins[1:len(bins)])\n",
    "bins_adj = [int(round(x,0)) for x in bins_adj]\n",
    "#print type(bins_adj)\n",
    "print bins_adj\n",
    "\n",
    "#get data into these bins\n",
    "bin_len = []\n",
    "\n",
    "#print dataset[0][0]\n",
    "\n",
    "#print bin_len + [2]\n",
    "#print min(bins_adj)\n",
    "\n",
    "#print min([y for y in bins_adj if y >= 100])\n",
    "\n",
    "for x in text_len:\n",
    "    bin_x = min([y for y in bins_adj if y >= x])\n",
    "    #print bin_x\n",
    "    bin_len.append(bin_x)\n",
    "#print bin_len\n"
   ]
  },
  {
   "cell_type": "code",
   "execution_count": 188,
   "metadata": {
    "collapsed": false
   },
   "outputs": [
    {
     "name": "stdout",
     "output_type": "stream",
     "text": [
      "[0, 125]\n"
     ]
    }
   ],
   "source": [
    "#combine bin_len which has the bin for each item, with the first element of dataset which has the binary score.\n",
    "\n",
    "dataset2 = [[dataset[i][0],bin_len[i]] for i in bin_len]\n",
    "\n",
    "print dataset2[0]"
   ]
  },
  {
   "cell_type": "code",
   "execution_count": 235,
   "metadata": {
    "collapsed": false
   },
   "outputs": [
    {
     "name": "stdout",
     "output_type": "stream",
     "text": [
      "[0, 184]\n"
     ]
    },
    {
     "data": {
      "text/plain": [
       "(371021, 37000, 37000, 297021, 334021)"
      ]
     },
     "execution_count": 235,
     "metadata": {},
     "output_type": "execute_result"
    }
   ],
   "source": [
    "#break the dataset into test set, dev set and train set\n",
    "#randomize the dataset\n",
    "random.shuffle(dataset2)\n",
    "print(dataset2[0])\n",
    "test_set, dev_set, train_set = dataset2[0:37000], dataset2[37000:74000], dataset2[74000:]\n",
    "#combine dev and train for later reshuffle\n",
    "train_dev_set = train_set + dev_set\n",
    "#check set sizes\n",
    "len(dataset2), len(test_set), len(dev_set), len(train_set), len(train_dev_set)"
   ]
  },
  {
   "cell_type": "code",
   "execution_count": 236,
   "metadata": {
    "collapsed": true
   },
   "outputs": [],
   "source": [
    "#first classifier, length of the text, maybe longer posts have higher scores\n",
    "def spam_features(line):\n",
    "    return {'length of text bin': line[1]}"
   ]
  },
  {
   "cell_type": "code",
   "execution_count": 237,
   "metadata": {
    "collapsed": false
   },
   "outputs": [
    {
     "data": {
      "text/plain": [
       "{'length of text bin': 184}"
      ]
     },
     "execution_count": 237,
     "metadata": {},
     "output_type": "execute_result"
    }
   ],
   "source": [
    "#test function\n",
    "spam_features(dataset2[0])"
   ]
  },
  {
   "cell_type": "code",
   "execution_count": 238,
   "metadata": {
    "collapsed": true
   },
   "outputs": [],
   "source": [
    "#pair the features with the spam flag\n",
    "featureset_train = [(spam_features(line), line[0]) for line in train_set]\n",
    "featureset_dev = [(spam_features(line), line[0]) for line in dev_set]\n",
    "featureset_test = [(spam_features(line), line[0]) for line in test_set]"
   ]
  },
  {
   "cell_type": "code",
   "execution_count": 239,
   "metadata": {
    "collapsed": false
   },
   "outputs": [
    {
     "data": {
      "text/plain": [
       "(({'length of text bin': 125}, 1), ({'length of text bin': 184}, 0))"
      ]
     },
     "execution_count": 239,
     "metadata": {},
     "output_type": "execute_result"
    }
   ],
   "source": [
    "#test what's in featuresets\n",
    "featureset_train[0],featureset_dev[2] "
   ]
  },
  {
   "cell_type": "code",
   "execution_count": 240,
   "metadata": {
    "collapsed": false
   },
   "outputs": [],
   "source": [
    "classifier = nltk.NaiveBayesClassifier.train(featureset_train)"
   ]
  },
  {
   "cell_type": "code",
   "execution_count": 241,
   "metadata": {
    "collapsed": false
   },
   "outputs": [
    {
     "name": "stdout",
     "output_type": "stream",
     "text": [
      "0.900216216216\n"
     ]
    }
   ],
   "source": [
    "print nltk.classify.accuracy(classifier, featureset_dev)"
   ]
  },
  {
   "cell_type": "code",
   "execution_count": 242,
   "metadata": {
    "collapsed": false
   },
   "outputs": [
    {
     "name": "stdout",
     "output_type": "stream",
     "text": [
      "0.899810810811\n"
     ]
    }
   ],
   "source": [
    "#check the accuracy on the test set\n",
    "print nltk.classify.accuracy(classifier, featureset_test)"
   ]
  },
  {
   "cell_type": "code",
   "execution_count": 244,
   "metadata": {
    "collapsed": false
   },
   "outputs": [
    {
     "name": "stdout",
     "output_type": "stream",
     "text": [
      "Most Informative Features\n",
      "      length of text bin = 125                 1 : 0      =      2.3 : 1.0\n"
     ]
    }
   ],
   "source": [
    "classifier.show_most_informative_features(5)"
   ]
  },
  {
   "cell_type": "markdown",
   "metadata": {
    "collapsed": true
   },
   "source": [
    "### Text that is in the 125 bin (between 65 and 125 words) is 2.3 times more likely to have a high score (greater than 5). "
   ]
  },
  {
   "cell_type": "code",
   "execution_count": 253,
   "metadata": {
    "collapsed": false
   },
   "outputs": [
    {
     "name": "stdout",
     "output_type": "stream",
     "text": [
      "['@', 'Lorenzo', ':', 'sorry', ',', 'I', \"'ve\", 'read', 'it', 'and', 'did', 'not', 'catch', 'this', 'one', '...']\n",
      "['@', 'Gabriel', ':', 'that', 'was', 'already', 'in', 'my', 'answer', ',', 'look', 'at', 'the', 'end', '.']\n"
     ]
    }
   ],
   "source": [
    "#Explore most common words: get all words in the comments, split by high score vs low score and compare\n",
    "score_text[0][1]\n",
    "\n",
    "#tokenize the text of the comments\n",
    "tokens_high = [nltk.word_tokenize(x[1]) for x in score_text if x[0] == 1]\n",
    "tokens_low = [nltk.word_tokenize(x[1]) for x in score_text if x[0] == 0]\n",
    "\n",
    "print tokens_high[0]\n",
    "print tokens_low[0]"
   ]
  },
  {
   "cell_type": "markdown",
   "metadata": {},
   "source": [
    "### The remainder of this code ran on the smaller data set but the processing time is very long on the larger dataset and I was not able to run it."
   ]
  },
  {
   "cell_type": "code",
   "execution_count": 256,
   "metadata": {
    "collapsed": false
   },
   "outputs": [
    {
     "data": {
      "text/plain": [
       "'\\n#split into words\\nwords_high = []\\nwords_low = []\\nfor row in tokens_high:\\n    add_words = [w.lower() for w in row]\\n    words_high = words_high + add_words\\n'"
      ]
     },
     "execution_count": 256,
     "metadata": {},
     "output_type": "execute_result"
    }
   ],
   "source": [
    "'''\n",
    "#split into words\n",
    "words_high = []\n",
    "words_low = []\n",
    "for row in tokens_high:\n",
    "    add_words = [w.lower() for w in row]\n",
    "    words_high = words_high + add_words\n",
    "'''"
   ]
  },
  {
   "cell_type": "code",
   "execution_count": null,
   "metadata": {
    "collapsed": true
   },
   "outputs": [],
   "source": [
    "'''\n",
    "for row in tokens_low:\n",
    "    add_words = [w.lower() for w in row]\n",
    "    words_low = words_low + add_words\n",
    "\n",
    "print words_high[0]\n",
    "print words_low[0]\n",
    "'''"
   ]
  },
  {
   "cell_type": "code",
   "execution_count": null,
   "metadata": {
    "collapsed": true
   },
   "outputs": [],
   "source": [
    "'''\n",
    "#remove stop words\n",
    "#get English stop words like - high frequency words like 'the','to','her' \n",
    "stops = stopwords.words('english')\n",
    "'''"
   ]
  },
  {
   "cell_type": "code",
   "execution_count": null,
   "metadata": {
    "collapsed": false
   },
   "outputs": [],
   "source": [
    "'''\n",
    "#remove stops words and single character words (removes punctuation etc.)\n",
    "words2_high = [x for x in words_high if x not in stops and len(x) > 3]\n",
    "words2_low = [x for x in words_low if x not in stops and len(x) > 3]\n",
    "'''"
   ]
  },
  {
   "cell_type": "code",
   "execution_count": null,
   "metadata": {
    "collapsed": false
   },
   "outputs": [],
   "source": [
    "'''\n",
    "#get the frequency distribution of the words in the comments\n",
    "fdist_high = FreqDist(words2_high)\n",
    "fdist_low = FreqDist(words2_low)\n",
    "'''\n"
   ]
  },
  {
   "cell_type": "code",
   "execution_count": null,
   "metadata": {
    "collapsed": true
   },
   "outputs": [],
   "source": [
    "'''\n",
    "#limit the features, get a list of the most common 2000 words and their frequency\n",
    "words_high_2000 = fdist_high.most_common(2000)\n",
    "words_low_2000 = fdist_low.most_common(2000)\n",
    "'''"
   ]
  },
  {
   "cell_type": "code",
   "execution_count": null,
   "metadata": {
    "collapsed": false
   },
   "outputs": [],
   "source": [
    "'''\n",
    "words_high_2000[0:10]\n",
    "'''"
   ]
  },
  {
   "cell_type": "code",
   "execution_count": null,
   "metadata": {
    "collapsed": false
   },
   "outputs": [],
   "source": [
    "'''\n",
    "words_low_2000[0:10]\n",
    "'''"
   ]
  },
  {
   "cell_type": "markdown",
   "metadata": {},
   "source": [
    "'''\n",
    "There is no real difference in the top 10 most common words, even once stop words are eliminated from the list\n",
    "'''"
   ]
  },
  {
   "cell_type": "code",
   "execution_count": null,
   "metadata": {
    "collapsed": true
   },
   "outputs": [],
   "source": []
  }
 ],
 "metadata": {
  "anaconda-cloud": {},
  "kernelspec": {
   "display_name": "Python [Root]",
   "language": "python",
   "name": "Python [Root]"
  },
  "language_info": {
   "codemirror_mode": {
    "name": "ipython",
    "version": 2
   },
   "file_extension": ".py",
   "mimetype": "text/x-python",
   "name": "python",
   "nbconvert_exporter": "python",
   "pygments_lexer": "ipython2",
   "version": "2.7.12"
  },
  "nbpresent": {
   "slides": {},
   "themes": {
    "default": "39ba8c6f-56e6-4900-8afd-01df0c11e1b3",
    "theme": {}
   }
  }
 },
 "nbformat": 4,
 "nbformat_minor": 0
}
